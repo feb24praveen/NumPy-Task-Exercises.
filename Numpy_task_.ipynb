{
  "cells": [
    {
      "cell_type": "markdown",
      "metadata": {
        "id": "view-in-github",
        "colab_type": "text"
      },
      "source": [
        "<a href=\"https://colab.research.google.com/github/feb24praveen/NumPy-Task-Exercises./blob/main/Numpy_task_.ipynb\" target=\"_parent\"><img src=\"https://colab.research.google.com/assets/colab-badge.svg\" alt=\"Open In Colab\"/></a>"
      ]
    },
    {
      "cell_type": "markdown",
      "metadata": {
        "id": "vJCUHZorA2KM"
      },
      "source": [
        "# **Numpy Task 2 Exercises**\n",
        "\n"
      ]
    },
    {
      "cell_type": "markdown",
      "metadata": {
        "id": "1DHgky0kA2KY"
      },
      "source": [
        "#### 1. Import the numpy package under the name `np` (★☆☆) \n",
        "(**hint**: import … as …)"
      ]
    },
    {
      "cell_type": "code",
      "execution_count": null,
      "metadata": {
        "collapsed": true,
        "id": "2dXXISD6A2Kb"
      },
      "outputs": [],
      "source": [
        "import numpy as np"
      ]
    },
    {
      "cell_type": "markdown",
      "metadata": {
        "id": "p_n8gV95A2Ke"
      },
      "source": [
        "#### 2. Print the numpy version and the configuration (★☆☆) \n",
        "(**hint**: np.\\_\\_version\\_\\_, np.show\\_config)"
      ]
    },
    {
      "cell_type": "code",
      "execution_count": null,
      "metadata": {
        "id": "KK_NKGRPA2Kg",
        "colab": {
          "base_uri": "https://localhost:8080/"
        },
        "outputId": "024c7129-f991-480d-af4e-6bad22bba85b"
      },
      "outputs": [
        {
          "output_type": "stream",
          "name": "stdout",
          "text": [
            "1.22.4\n",
            "openblas64__info:\n",
            "    libraries = ['openblas64_', 'openblas64_']\n",
            "    library_dirs = ['/usr/local/lib']\n",
            "    language = c\n",
            "    define_macros = [('HAVE_CBLAS', None), ('BLAS_SYMBOL_SUFFIX', '64_'), ('HAVE_BLAS_ILP64', None)]\n",
            "    runtime_library_dirs = ['/usr/local/lib']\n",
            "blas_ilp64_opt_info:\n",
            "    libraries = ['openblas64_', 'openblas64_']\n",
            "    library_dirs = ['/usr/local/lib']\n",
            "    language = c\n",
            "    define_macros = [('HAVE_CBLAS', None), ('BLAS_SYMBOL_SUFFIX', '64_'), ('HAVE_BLAS_ILP64', None)]\n",
            "    runtime_library_dirs = ['/usr/local/lib']\n",
            "openblas64__lapack_info:\n",
            "    libraries = ['openblas64_', 'openblas64_']\n",
            "    library_dirs = ['/usr/local/lib']\n",
            "    language = c\n",
            "    define_macros = [('HAVE_CBLAS', None), ('BLAS_SYMBOL_SUFFIX', '64_'), ('HAVE_BLAS_ILP64', None), ('HAVE_LAPACKE', None)]\n",
            "    runtime_library_dirs = ['/usr/local/lib']\n",
            "lapack_ilp64_opt_info:\n",
            "    libraries = ['openblas64_', 'openblas64_']\n",
            "    library_dirs = ['/usr/local/lib']\n",
            "    language = c\n",
            "    define_macros = [('HAVE_CBLAS', None), ('BLAS_SYMBOL_SUFFIX', '64_'), ('HAVE_BLAS_ILP64', None), ('HAVE_LAPACKE', None)]\n",
            "    runtime_library_dirs = ['/usr/local/lib']\n",
            "Supported SIMD extensions in this NumPy install:\n",
            "    baseline = SSE,SSE2,SSE3\n",
            "    found = SSSE3,SSE41,POPCNT,SSE42,AVX,F16C,FMA3,AVX2\n",
            "    not found = AVX512F,AVX512CD,AVX512_KNL,AVX512_KNM,AVX512_SKX,AVX512_CLX,AVX512_CNL,AVX512_ICL\n",
            "None\n"
          ]
        }
      ],
      "source": [
        "version=(np.__version__)\n",
        "print(version)\n",
        "\n",
        "\n",
        "conf=np.show_config()\n",
        "print(conf)"
      ]
    },
    {
      "cell_type": "markdown",
      "metadata": {
        "id": "uxR4Zle3A2Ki"
      },
      "source": [
        "#### 3. Create a null vector of size 10 (★☆☆) \n",
        "(**hint**: np.zeros)"
      ]
    },
    {
      "cell_type": "code",
      "execution_count": null,
      "metadata": {
        "id": "QxZihkWXA2Kk",
        "outputId": "171b144a-2467-4c23-c132-bb65c5ef37a1",
        "colab": {
          "base_uri": "https://localhost:8080/"
        }
      },
      "outputs": [
        {
          "output_type": "stream",
          "name": "stdout",
          "text": [
            "[0. 0. 0. 0. 0. 0. 0. 0. 0. 0.]\n",
            "[0 0 0 0 0 0 0 0 0 0]\n"
          ]
        }
      ],
      "source": [
        "null_vector=np.zeros(10)              #      .astype(int) is used to convert float to integers.\n",
        "print(null_vector)\n",
        "\n",
        "null_vector=np.zeros(10).astype(int)\n",
        "print(null_vector)"
      ]
    },
    {
      "cell_type": "markdown",
      "metadata": {
        "id": "rsPWI4ETA2Kl"
      },
      "source": [
        "#### 4.  How to find the memory size of any array (★☆☆) \n",
        "(**hint**: size, itemsize)"
      ]
    },
    {
      "cell_type": "code",
      "execution_count": null,
      "metadata": {
        "id": "VJuZ3ZUnA2Kp",
        "outputId": "e9026de6-c537-4145-c0c8-bf7fe39328a0",
        "colab": {
          "base_uri": "https://localhost:8080/"
        }
      },
      "outputs": [
        {
          "output_type": "stream",
          "name": "stdout",
          "text": [
            "16 bytes\n"
          ]
        }
      ],
      "source": [
        "memory_size=np.array((20,30))\n",
        "\n",
        "print(\"%d bytes\" % (memory_size.size * memory_size.itemsize))"
      ]
    },
    {
      "cell_type": "markdown",
      "metadata": {
        "id": "VsR_CvaGA2Kr"
      },
      "source": [
        "#### 5.  How to get the documentation of the numpy add function from the command line? (★☆☆) \n",
        "(**hint**: np.info)"
      ]
    },
    {
      "cell_type": "code",
      "execution_count": null,
      "metadata": {
        "collapsed": true,
        "id": "XxyTeea4A2Kt",
        "colab": {
          "base_uri": "https://localhost:8080/"
        },
        "outputId": "ad01ef5e-efc2-4f77-81be-add4c36b10f8"
      },
      "outputs": [
        {
          "output_type": "stream",
          "name": "stdout",
          "text": [
            "add(x1, x2, /, out=None, *, where=True, casting='same_kind', order='K', dtype=None, subok=True[, signature, extobj])\n",
            "\n",
            "Add arguments element-wise.\n",
            "\n",
            "Parameters\n",
            "----------\n",
            "x1, x2 : array_like\n",
            "    The arrays to be added.\n",
            "    If ``x1.shape != x2.shape``, they must be broadcastable to a common\n",
            "    shape (which becomes the shape of the output).\n",
            "out : ndarray, None, or tuple of ndarray and None, optional\n",
            "    A location into which the result is stored. If provided, it must have\n",
            "    a shape that the inputs broadcast to. If not provided or None,\n",
            "    a freshly-allocated array is returned. A tuple (possible only as a\n",
            "    keyword argument) must have length equal to the number of outputs.\n",
            "where : array_like, optional\n",
            "    This condition is broadcast over the input. At locations where the\n",
            "    condition is True, the `out` array will be set to the ufunc result.\n",
            "    Elsewhere, the `out` array will retain its original value.\n",
            "    Note that if an uninitialized `out` array is created via the default\n",
            "    ``out=None``, locations within it where the condition is False will\n",
            "    remain uninitialized.\n",
            "**kwargs\n",
            "    For other keyword-only arguments, see the\n",
            "    :ref:`ufunc docs <ufuncs.kwargs>`.\n",
            "\n",
            "Returns\n",
            "-------\n",
            "add : ndarray or scalar\n",
            "    The sum of `x1` and `x2`, element-wise.\n",
            "    This is a scalar if both `x1` and `x2` are scalars.\n",
            "\n",
            "Notes\n",
            "-----\n",
            "Equivalent to `x1` + `x2` in terms of array broadcasting.\n",
            "\n",
            "Examples\n",
            "--------\n",
            ">>> np.add(1.0, 4.0)\n",
            "5.0\n",
            ">>> x1 = np.arange(9.0).reshape((3, 3))\n",
            ">>> x2 = np.arange(3.0)\n",
            ">>> np.add(x1, x2)\n",
            "array([[  0.,   2.,   4.],\n",
            "       [  3.,   5.,   7.],\n",
            "       [  6.,   8.,  10.]])\n",
            "\n",
            "The ``+`` operator can be used as a shorthand for ``np.add`` on ndarrays.\n",
            "\n",
            ">>> x1 = np.arange(9.0).reshape((3, 3))\n",
            ">>> x2 = np.arange(3.0)\n",
            ">>> x1 + x2\n",
            "array([[ 0.,  2.,  4.],\n",
            "       [ 3.,  5.,  7.],\n",
            "       [ 6.,  8., 10.]])\n",
            "None\n"
          ]
        }
      ],
      "source": [
        "print(np.info(np.add))"
      ]
    },
    {
      "cell_type": "markdown",
      "metadata": {
        "id": "FjlOo0bpA2K9"
      },
      "source": [
        "#### 6.  Create a null vector of size 10 but the fifth value which is 1 (★☆☆) \n",
        "(**hint**: array\\[4\\])"
      ]
    },
    {
      "cell_type": "code",
      "execution_count": null,
      "metadata": {
        "id": "WkIP15dNA2K-",
        "outputId": "5d603a6b-11aa-41eb-c570-c33bf373a0c0",
        "colab": {
          "base_uri": "https://localhost:8080/"
        }
      },
      "outputs": [
        {
          "output_type": "stream",
          "name": "stdout",
          "text": [
            "[0 0 0 0 1 0 0 0 0 0]\n"
          ]
        }
      ],
      "source": [
        "Null= np.zeros(10).astype(int)\n",
        "Null[4] = 1\n",
        "print(Null)"
      ]
    },
    {
      "cell_type": "markdown",
      "metadata": {
        "id": "0u1iD43hA2LA"
      },
      "source": [
        "#### 7.  Create a vector with values ranging from 10 to 49 (★☆☆) \n",
        "(**hint**: np.arange)"
      ]
    },
    {
      "cell_type": "code",
      "execution_count": null,
      "metadata": {
        "id": "JLUl-Fb2A2LC",
        "outputId": "978a82dd-8340-41e5-f114-db55f501cafe",
        "colab": {
          "base_uri": "https://localhost:8080/"
        }
      },
      "outputs": [
        {
          "output_type": "stream",
          "name": "stdout",
          "text": [
            "[10 11 12 13 14 15 16 17 18 19 20 21 22 23 24 25 26 27 28 29 30 31 32 33\n",
            " 34 35 36 37 38 39 40 41 42 43 44 45 46 47 48 49]\n"
          ]
        }
      ],
      "source": [
        "vector=np.arange(10,50)\n",
        "print(vector)"
      ]
    },
    {
      "cell_type": "markdown",
      "metadata": {
        "id": "XHdAIpbMA2LD"
      },
      "source": [
        "#### 8.  Reverse a vector (first element becomes last) (★☆☆) \n",
        "(**hint**: array\\[::-1\\])"
      ]
    },
    {
      "cell_type": "code",
      "execution_count": null,
      "metadata": {
        "id": "zC5npCpWA2LE",
        "outputId": "f2e61a39-0e99-4e26-aa26-18cf1175f5ac",
        "colab": {
          "base_uri": "https://localhost:8080/"
        }
      },
      "outputs": [
        {
          "output_type": "stream",
          "name": "stdout",
          "text": [
            "[49 48 47 46 45 44 43 42 41 40 39 38 37 36 35 34 33 32 31 30 29 28 27 26\n",
            " 25 24 23 22 21 20 19 18 17 16 15 14 13 12 11 10  9  8  7  6  5  4  3  2\n",
            "  1  0]\n"
          ]
        }
      ],
      "source": [
        "vector=np.arange(50)\n",
        "reversed=vector[::-1]\n",
        "print(reversed)"
      ]
    },
    {
      "cell_type": "markdown",
      "metadata": {
        "id": "6m7gi4HMA2LG"
      },
      "source": [
        "#### 9.  Create a 3x3 matrix with values ranging from 0 to 8 (★☆☆) \n",
        "(**hint**: reshape)"
      ]
    },
    {
      "cell_type": "code",
      "execution_count": null,
      "metadata": {
        "id": "3eu7scwcA2LH",
        "outputId": "6e074bff-acb1-4f72-8314-1d8e42122b85",
        "colab": {
          "base_uri": "https://localhost:8080/"
        }
      },
      "outputs": [
        {
          "output_type": "stream",
          "name": "stdout",
          "text": [
            "[[0 1 2]\n",
            " [3 4 5]\n",
            " [6 7 8]]\n"
          ]
        }
      ],
      "source": [
        "mat=np.arange(9).reshape(3,3)\n",
        "print(mat)"
      ]
    },
    {
      "cell_type": "markdown",
      "metadata": {
        "id": "_pgsJkmTA2LI"
      },
      "source": [
        "#### 10. Find indices of non-zero elements from \\[1,2,0,0,4,0\\] (★☆☆) \n",
        "(**hint**: np.nonzero)"
      ]
    },
    {
      "cell_type": "code",
      "execution_count": null,
      "metadata": {
        "id": "qRLUe2u3A2LJ",
        "outputId": "15113d22-bb80-4d14-9f84-e4353bcdf2cb",
        "colab": {
          "base_uri": "https://localhost:8080/"
        }
      },
      "outputs": [
        {
          "output_type": "stream",
          "name": "stdout",
          "text": [
            "(array([0, 1, 4]),)\n"
          ]
        }
      ],
      "source": [
        "non= np.nonzero([1,2,0,0,4,0])\n",
        "print(non)"
      ]
    },
    {
      "cell_type": "markdown",
      "metadata": {
        "id": "lsyFjMT8A2LL"
      },
      "source": [
        "#### 11. Create a 3x3 identity matrix (★☆☆) \n",
        "(**hint**: np.eye)"
      ]
    },
    {
      "cell_type": "code",
      "execution_count": null,
      "metadata": {
        "id": "kgUmB2CVA2LM",
        "outputId": "ba922109-9a38-4f6f-a76c-8e036c2e7a9f",
        "colab": {
          "base_uri": "https://localhost:8080/"
        }
      },
      "outputs": [
        {
          "output_type": "stream",
          "name": "stdout",
          "text": [
            "[[1. 0. 0.]\n",
            " [0. 1. 0.]\n",
            " [0. 0. 1.]]\n"
          ]
        }
      ],
      "source": [
        "identity=np.eye(3)\n",
        "print(identity)"
      ]
    },
    {
      "cell_type": "markdown",
      "metadata": {
        "id": "UG7spZ-TA2LN"
      },
      "source": [
        "#### 12. Create a 3x3x3 array with random values (★☆☆) \n",
        "(**hint**: np.random.random)"
      ]
    },
    {
      "cell_type": "code",
      "execution_count": null,
      "metadata": {
        "collapsed": true,
        "id": "ehTTzf9iA2LO",
        "outputId": "48c52d75-b161-4bd0-9eb6-68e6a3535c22",
        "colab": {
          "base_uri": "https://localhost:8080/"
        }
      },
      "outputs": [
        {
          "output_type": "stream",
          "name": "stdout",
          "text": [
            "[[[0.18377665 0.62801754 0.30305751]\n",
            "  [0.47065114 0.2403002  0.45698797]\n",
            "  [0.45738117 0.5775356  0.81110205]]\n",
            "\n",
            " [[0.12016131 0.686473   0.53875775]\n",
            "  [0.25413356 0.15726462 0.90021213]\n",
            "  [0.18800097 0.30977372 0.36642982]]\n",
            "\n",
            " [[0.03218627 0.30990559 0.10124404]\n",
            "  [0.1487837  0.28328286 0.9346859 ]\n",
            "  [0.80289443 0.67459793 0.80664453]]]\n"
          ]
        }
      ],
      "source": [
        "random_values=np.random.random(27).reshape(3,3,3)\n",
        "print(random_values)"
      ]
    },
    {
      "cell_type": "markdown",
      "metadata": {
        "id": "JM4ReS-oA2LP"
      },
      "source": [
        "#### 13. Create a 10x10 array with random values and find the minimum and maximum values (★☆☆) \n",
        "(**hint**: min, max)"
      ]
    },
    {
      "cell_type": "code",
      "execution_count": null,
      "metadata": {
        "id": "1qpmYpXcA2LQ",
        "outputId": "88297813-73c1-446b-b8b2-b50602d13f48",
        "colab": {
          "base_uri": "https://localhost:8080/"
        }
      },
      "outputs": [
        {
          "output_type": "stream",
          "name": "stdout",
          "text": [
            "Array_max is: 0.9961447916210062\n",
            "Array_max is: 0.011409086657127587\n"
          ]
        }
      ],
      "source": [
        "Array=np.random.random((10,10))\n",
        "Array_max=np.max(Array)\n",
        "Array_min=np.min(Array)\n",
        "print(\"Array_max is:\",Array_max)\n",
        "print(\"Array_max is:\",Array_min)"
      ]
    },
    {
      "cell_type": "markdown",
      "metadata": {
        "id": "QjYK7hsFA2LR"
      },
      "source": [
        "#### 14. Create a random vector of size 30 and find the mean value (★☆☆) \n",
        "(**hint**: mean)"
      ]
    },
    {
      "cell_type": "code",
      "execution_count": null,
      "metadata": {
        "id": "9_cBFKkMA2LS",
        "outputId": "4cc2405b-d189-4a51-d20a-e2e8afc04a44",
        "colab": {
          "base_uri": "https://localhost:8080/"
        }
      },
      "outputs": [
        {
          "output_type": "stream",
          "name": "stdout",
          "text": [
            "Mean value of Random vector is: 0.5751821673585789\n"
          ]
        }
      ],
      "source": [
        "Vector = np.random.random(30)\n",
        "mean_value = np.mean(Vector)\n",
        "print('Mean value of Random vector is:',mean_value)"
      ]
    },
    {
      "cell_type": "markdown",
      "metadata": {
        "id": "n5SV7WqbA2LT"
      },
      "source": [
        "#### 15. Create a 2d array with 1 on the border and 0 inside (★☆☆) \n",
        "(**hint**: array\\[1:-1, 1:-1\\])"
      ]
    },
    {
      "cell_type": "code",
      "execution_count": null,
      "metadata": {
        "id": "n_EvdLsaA2LU",
        "outputId": "f762e95c-e9fd-4243-a3a8-23c4c0922f22",
        "colab": {
          "base_uri": "https://localhost:8080/"
        }
      },
      "outputs": [
        {
          "output_type": "stream",
          "name": "stdout",
          "text": [
            "[[1. 1. 1. 1. 1. 1. 1. 1. 1. 1.]\n",
            " [1. 0. 0. 0. 0. 0. 0. 0. 0. 1.]\n",
            " [1. 0. 0. 0. 0. 0. 0. 0. 0. 1.]\n",
            " [1. 0. 0. 0. 0. 0. 0. 0. 0. 1.]\n",
            " [1. 0. 0. 0. 0. 0. 0. 0. 0. 1.]\n",
            " [1. 0. 0. 0. 0. 0. 0. 0. 0. 1.]\n",
            " [1. 0. 0. 0. 0. 0. 0. 0. 0. 1.]\n",
            " [1. 0. 0. 0. 0. 0. 0. 0. 0. 1.]\n",
            " [1. 0. 0. 0. 0. 0. 0. 0. 0. 1.]\n",
            " [1. 1. 1. 1. 1. 1. 1. 1. 1. 1.]]\n"
          ]
        }
      ],
      "source": [
        "Array = np.ones((10,10))\n",
        "Array[1:-1,1:-1] = 0\n",
        "print(Array)"
      ]
    },
    {
      "cell_type": "markdown",
      "metadata": {
        "id": "k-8bERAlA2LV"
      },
      "source": [
        "#### 16. How to add a border (filled with 0's) around an existing array? (★☆☆) \n",
        "(**hint**: np.pad)"
      ]
    },
    {
      "cell_type": "code",
      "execution_count": null,
      "metadata": {
        "id": "MP5k3VwkA2LV",
        "outputId": "db2796e1-025a-4f6f-fdb4-4efa530c4de3",
        "colab": {
          "base_uri": "https://localhost:8080/"
        }
      },
      "outputs": [
        {
          "output_type": "stream",
          "name": "stdout",
          "text": [
            "[[0. 0. 0. 0. 0.]\n",
            " [0. 1. 1. 1. 0.]\n",
            " [0. 1. 1. 1. 0.]\n",
            " [0. 1. 1. 1. 0.]\n",
            " [0. 0. 0. 0. 0.]]\n"
          ]
        }
      ],
      "source": [
        "border = np.ones((3,3))\n",
        "border = np.pad(border,constant_values=0,pad_width=1)\n",
        "print(border)"
      ]
    },
    {
      "cell_type": "markdown",
      "metadata": {
        "id": "pFCCk8UnA2Ll"
      },
      "source": [
        "#### 17. What is the result of the following expression? (★☆☆) \n",
        "(**hint**: NaN = not a number, inf = infinity)"
      ]
    },
    {
      "cell_type": "markdown",
      "metadata": {
        "id": "TUJEr9UrA2Lm"
      },
      "source": [
        "```python\n",
        "0 * np.nan\n",
        "np.nan == np.nan\n",
        "np.inf > np.nan\n",
        "np.nan - np.nan\n",
        "0.3 == 3 * 0.1\n",
        "```"
      ]
    },
    {
      "cell_type": "code",
      "execution_count": null,
      "metadata": {
        "id": "SLL1AGdIA2Lp"
      },
      "outputs": [],
      "source": []
    },
    {
      "cell_type": "markdown",
      "metadata": {
        "id": "lTm4i-gzA2Lp"
      },
      "source": [
        "#### 18. Create a 5x5 matrix with values 1,2,3,4 just below the diagonal (★☆☆) \n",
        "(**hint**: np.diag)"
      ]
    },
    {
      "cell_type": "code",
      "execution_count": null,
      "metadata": {
        "id": "XxOrsVofA2Lr",
        "outputId": "6d6e00ee-9b43-46dd-9c1a-c2077515b995",
        "colab": {
          "base_uri": "https://localhost:8080/"
        }
      },
      "outputs": [
        {
          "output_type": "stream",
          "name": "stdout",
          "text": [
            "[[0 0 0 0 0]\n",
            " [1 0 0 0 0]\n",
            " [0 2 0 0 0]\n",
            " [0 0 3 0 0]\n",
            " [0 0 0 4 0]]\n"
          ]
        }
      ],
      "source": [
        "Diagonal_matrix= np.diag (1+np.arange(4), k=-1)\n",
        "print(Diagonal_matrix)"
      ]
    },
    {
      "cell_type": "markdown",
      "metadata": {
        "id": "ztDAQLHOA2Ls"
      },
      "source": [
        "#### 19. Create a 8x8 matrix and fill it with a checkerboard pattern (★☆☆) \n",
        "(**hint**: array\\[::2\\])"
      ]
    },
    {
      "cell_type": "code",
      "execution_count": null,
      "metadata": {
        "id": "NTrbgtw7A2Lt",
        "colab": {
          "base_uri": "https://localhost:8080/"
        },
        "outputId": "5897d6ee-98aa-47ca-8e86-52374de212d1"
      },
      "outputs": [
        {
          "output_type": "stream",
          "name": "stdout",
          "text": [
            "[[0 1 0 1 0 1 0 1]\n",
            " [1 0 1 0 1 0 1 0]\n",
            " [0 1 0 1 0 1 0 1]\n",
            " [1 0 1 0 1 0 1 0]\n",
            " [0 1 0 1 0 1 0 1]\n",
            " [1 0 1 0 1 0 1 0]\n",
            " [0 1 0 1 0 1 0 1]\n",
            " [1 0 1 0 1 0 1 0]]\n"
          ]
        }
      ],
      "source": [
        "Z = np.zeros((8,8),dtype=int)\n",
        "Z[1::2,::2] = 1\n",
        "Z[::2,1::2] = 1\n",
        "print(Z)"
      ]
    },
    {
      "cell_type": "markdown",
      "metadata": {
        "id": "FlRG1ukCA2Lt"
      },
      "source": [
        "#### 20. Consider a (6,7,8) shape array, what is the index (x,y,z) of the 100th element?\n",
        "\n",
        "> Indented block\n",
        "\n",
        "\n",
        "(**hint**: np.unravel_index)"
      ]
    },
    {
      "cell_type": "code",
      "execution_count": null,
      "metadata": {
        "id": "9ZtlvzcuA2Lv",
        "colab": {
          "base_uri": "https://localhost:8080/"
        },
        "outputId": "c3239dc7-721a-4145-ece9-8ab5dae63c1f"
      },
      "outputs": [
        {
          "output_type": "stream",
          "name": "stdout",
          "text": [
            "(1, 5, 3)\n"
          ]
        }
      ],
      "source": [
        "hund_ele=np.unravel_index(99,(6,7,8))\n",
        "print(hund_ele)"
      ]
    },
    {
      "cell_type": "markdown",
      "metadata": {
        "id": "SvJ0mxWlA2Lw"
      },
      "source": [
        "#### 21. Create a checkerboard 8x8 matrix using the tile function (★☆☆) \n",
        "(**hint**: np.tile)"
      ]
    },
    {
      "cell_type": "code",
      "execution_count": null,
      "metadata": {
        "id": "FbdyoE6ZA2Lx",
        "colab": {
          "base_uri": "https://localhost:8080/"
        },
        "outputId": "dc845070-1b4f-464c-a88d-15b3f47cb2e0"
      },
      "outputs": [
        {
          "output_type": "stream",
          "name": "stdout",
          "text": [
            "[[0 1 0 1 0 1 0 1]\n",
            " [1 0 1 0 1 0 1 0]\n",
            " [0 1 0 1 0 1 0 1]\n",
            " [1 0 1 0 1 0 1 0]\n",
            " [0 1 0 1 0 1 0 1]\n",
            " [1 0 1 0 1 0 1 0]\n",
            " [0 1 0 1 0 1 0 1]\n",
            " [1 0 1 0 1 0 1 0]]\n"
          ]
        }
      ],
      "source": [
        "checkboard =np.tile(np.array([[0,1],[1,0]]),(4,4))\n",
        "print(checkboard)"
      ]
    },
    {
      "cell_type": "markdown",
      "metadata": {
        "id": "yxxYyu5lA2Ly"
      },
      "source": [
        "#### 22. Normalize a 5x5 random matrix (★☆☆) \n",
        "(**hint**: (x - min) / (max - min))"
      ]
    },
    {
      "cell_type": "code",
      "execution_count": null,
      "metadata": {
        "id": "5oeObWpUA2Lz",
        "colab": {
          "base_uri": "https://localhost:8080/"
        },
        "outputId": "3e3902da-b317-44f7-ae68-74211c189212"
      },
      "outputs": [
        {
          "output_type": "stream",
          "name": "stdout",
          "text": [
            "Original Array: [[0.21289509 0.62807774 0.1832447  0.85216609 0.33648281]\n",
            " [0.3055375  0.90462955 0.07889056 0.32387234 0.22532967]\n",
            " [0.61042727 0.53548777 0.87483114 0.16948723 0.98512242]\n",
            " [0.52184713 0.54898061 0.75378098 0.30269637 0.04374217]\n",
            " [0.8961779  0.03119583 0.28726567 0.75964856 0.28700841]]\n",
            "[[0.1904751  0.62571052 0.15939264 0.86062205 0.32003194]\n",
            " [0.28759202 0.91561942 0.04999832 0.30681241 0.20351025]\n",
            " [0.60720757 0.52864858 0.88438179 0.14497069 1.        ]\n",
            " [0.51434912 0.54279311 0.75748506 0.28461366 0.01315231]\n",
            " [0.90675957 0.         0.26843768 0.76363604 0.26816799]]\n",
            "$$$$$$$$$$$$$$$$$$$$$$$$$$$$$$$$$$$$$$$$$$$$$$$$$$$$$$$$$$$$$$$$$$$$$$\n",
            "After normalization:\n",
            "[[0.1904751  0.62571052 0.15939264 0.86062205 0.32003194]\n",
            " [0.28759202 0.91561942 0.04999832 0.30681241 0.20351025]\n",
            " [0.60720757 0.52864858 0.88438179 0.14497069 1.        ]\n",
            " [0.51434912 0.54279311 0.75748506 0.28461366 0.01315231]\n",
            " [0.90675957 0.         0.26843768 0.76363604 0.26816799]]\n"
          ]
        }
      ],
      "source": [
        "df= np.random.random((5,5))\n",
        "print(\"Original Array:\",(df))\n",
        "\n",
        "dfmax, dfmin = df.max(), df.min()\n",
        "df = (df - dfmin)/(dfmax - dfmin)\n",
        "print(df)\n",
        "print('$'*70)\n",
        "print(\"After normalization:\")\n",
        "print(df)"
      ]
    },
    {
      "cell_type": "markdown",
      "metadata": {
        "id": "pSJ1Gb7AA2L0"
      },
      "source": [
        "#### 23. Create a custom dtype that describes a color as four unsigned bytes (RGBA) (★☆☆) \n",
        "(**hint**: np.dtype)"
      ]
    },
    {
      "cell_type": "code",
      "execution_count": null,
      "metadata": {
        "collapsed": true,
        "id": "-5GE8QkoA2L1"
      },
      "outputs": [],
      "source": [
        "Cust_col = np.dtype([('R',np.ubyte),\n",
        "                  ('G',np.ubyte),\n",
        "                  ('B',np.ubyte),\n",
        "                  ('A',np.ubyte)])"
      ]
    },
    {
      "cell_type": "markdown",
      "metadata": {
        "id": "WePNPUPuA2L1"
      },
      "source": [
        "#### 24. Multiply a 5x3 matrix by a 3x2 matrix (real matrix product) (★☆☆) \n",
        "(**hint**: np.dot | @)"
      ]
    },
    {
      "cell_type": "code",
      "execution_count": null,
      "metadata": {
        "id": "ShS7Uk-BA2L3",
        "colab": {
          "base_uri": "https://localhost:8080/"
        },
        "outputId": "0d1a5e97-8dd8-4566-973b-ce9739a69f4d"
      },
      "outputs": [
        {
          "output_type": "stream",
          "name": "stdout",
          "text": [
            "[[1.26939842 0.75035477]\n",
            " [1.51932216 1.05063863]\n",
            " [0.45529736 0.27995876]\n",
            " [0.87977957 0.56792873]\n",
            " [1.13207973 0.78000437]]\n"
          ]
        }
      ],
      "source": [
        "matrix =np.dot(np.random.random((5,3)),np.random.random((3,2)))\n",
        "print(matrix)"
      ]
    },
    {
      "cell_type": "markdown",
      "metadata": {
        "id": "cjQs3jQ9A2L4"
      },
      "source": [
        "#### 25. Given a 1D array, negate all elements which are between 3 and 8, in place. (★☆☆) \n",
        "(**hint**: >, <=)"
      ]
    },
    {
      "cell_type": "code",
      "execution_count": null,
      "metadata": {
        "id": "yG22q21JA2L5",
        "colab": {
          "base_uri": "https://localhost:8080/"
        },
        "outputId": "74c114e8-d161-417e-de5c-f46a1a25f9f9"
      },
      "outputs": [
        {
          "output_type": "stream",
          "name": "stdout",
          "text": [
            "[ 0  1  2  3 -4 -5 -6 -7  8  9 10]\n"
          ]
        }
      ],
      "source": [
        "array=np.arange((11))\n",
        "\n",
        "array[4:8]=np.multiply(array[4:8],-1)\n",
        "\n",
        "print(array)"
      ]
    },
    {
      "cell_type": "markdown",
      "metadata": {
        "id": "Ia02nMfpA2L5"
      },
      "source": [
        "#### 26. What is the output of the following script? (★☆☆) \n",
        "(**hint**: np.sum)"
      ]
    },
    {
      "cell_type": "markdown",
      "metadata": {
        "id": "eNrFxh2wA2L8"
      },
      "source": [
        "```python\n",
        "# Author: Jake VanderPlas\n",
        "\n",
        "print(sum(range(5),-1))\n",
        "from numpy import *\n",
        "print(sum(range(5),-1))\n",
        "```"
      ]
    },
    {
      "cell_type": "code",
      "execution_count": null,
      "metadata": {
        "id": "T7Arc8TSA2L9",
        "colab": {
          "base_uri": "https://localhost:8080/"
        },
        "outputId": "85a6abdb-5ea5-48a3-ff58-dbde7df5dc2c"
      },
      "outputs": [
        {
          "output_type": "stream",
          "name": "stdout",
          "text": [
            "9\n",
            "10\n"
          ]
        }
      ],
      "source": [
        "print(sum(range(5),-1))\n",
        "from numpy import *\n",
        "print(sum(range(5),-1))"
      ]
    },
    {
      "cell_type": "markdown",
      "metadata": {
        "id": "C1b3UB7MA2L9"
      },
      "source": [
        "#### 27. Consider an integer vector Z, which of these expressions are legal? (★☆☆)"
      ]
    },
    {
      "cell_type": "markdown",
      "metadata": {
        "id": "D_yYiQy5A2L-"
      },
      "source": [
        "```python\n",
        "Z**Z\n",
        "2 << Z >> 2\n",
        "Z <- Z\n",
        "1j*Z\n",
        "Z/1/1\n",
        "Z<Z>Z\n",
        "```"
      ]
    },
    {
      "cell_type": "code",
      "execution_count": null,
      "metadata": {
        "id": "A_ORgdW6A2MA"
      },
      "outputs": [],
      "source": [
        "# legal_expressions = 1,2,3and 4"
      ]
    },
    {
      "cell_type": "markdown",
      "metadata": {
        "id": "i4OZQccBA2MA"
      },
      "source": [
        "#### 28. What are the result of the following expressions?"
      ]
    },
    {
      "cell_type": "markdown",
      "metadata": {
        "id": "g6j2I2pXA2MB"
      },
      "source": [
        "```python\n",
        "np.array(0) / np.array(0)\n",
        "np.array(0) // np.array(0)\n",
        "np.array([np.nan]).astype(int).astype(float)\n",
        "```"
      ]
    },
    {
      "cell_type": "code",
      "execution_count": null,
      "metadata": {
        "id": "1rr-2hOHA2MC",
        "colab": {
          "base_uri": "https://localhost:8080/"
        },
        "outputId": "152ce24a-df7d-43b4-ec72-d4b342b6b741"
      },
      "outputs": [
        {
          "output_type": "stream",
          "name": "stdout",
          "text": [
            "nan\n",
            "0\n",
            "[-9.22337204e+18]\n"
          ]
        },
        {
          "output_type": "stream",
          "name": "stderr",
          "text": [
            "<ipython-input-27-2a10de0ee61b>:1: RuntimeWarning: invalid value encountered in true_divide\n",
            "  print(np.array(0) / np.array(0))\n",
            "<ipython-input-27-2a10de0ee61b>:2: RuntimeWarning: divide by zero encountered in floor_divide\n",
            "  print(np.array(0) // np.array(0))\n"
          ]
        }
      ],
      "source": [
        "print(np.array(0) / np.array(0))\n",
        "print(np.array(0) // np.array(0))\n",
        "print(np.array([np.nan]).astype(int).astype(float))"
      ]
    },
    {
      "cell_type": "markdown",
      "metadata": {
        "id": "6gYjG2maA2MD"
      },
      "source": [
        "#### 29. How to round away from zero a float array ? (★☆☆) \n",
        "(**hint**: np.uniform, np.copysign, np.ceil, np.abs)"
      ]
    },
    {
      "cell_type": "code",
      "execution_count": null,
      "metadata": {
        "id": "kEUbyZotA2ME",
        "colab": {
          "base_uri": "https://localhost:8080/"
        },
        "outputId": "0024b468-8888-4ad3-c7f7-413f5250426a"
      },
      "outputs": [
        {
          "output_type": "stream",
          "name": "stdout",
          "text": [
            "[  9. -10.   7.   2.  -7.  13.  -5.  -1.  -2.   3.   7.   6.  12.  -9.\n",
            "   1.]\n"
          ]
        }
      ],
      "source": [
        "round_off= np.random.uniform(-10,+15,15)\n",
        "print(np.copysign(np.ceil(np.abs(round_off)), round_off))"
      ]
    },
    {
      "cell_type": "markdown",
      "metadata": {
        "id": "wyTb9WNtA2ME"
      },
      "source": [
        "#### 30. How to find common values between two arrays? (★☆☆) \n",
        "(**hint**: np.intersect1d)"
      ]
    },
    {
      "cell_type": "code",
      "execution_count": null,
      "metadata": {
        "id": "SY9TXDAiA2MF",
        "colab": {
          "base_uri": "https://localhost:8080/"
        },
        "outputId": "fea608d4-55cd-4268-bab9-b78a3b129d38"
      },
      "outputs": [
        {
          "output_type": "stream",
          "name": "stdout",
          "text": [
            "[0 2 3]\n"
          ]
        }
      ],
      "source": [
        "X = np.array([0,2,1,5,8,3,6]) \n",
        "Y = np.array([0,2,4,3]) \n",
        "\n",
        "print(np.intersect1d(X, Y))"
      ]
    },
    {
      "cell_type": "markdown",
      "metadata": {
        "id": "EWaBIC6nA2MI"
      },
      "source": [
        "#### 31. How to ignore all numpy warnings (not recommended)? (★☆☆) \n",
        "(**hint**: np.seterr, np.errstate)"
      ]
    },
    {
      "cell_type": "code",
      "execution_count": null,
      "metadata": {
        "id": "2EIFlRvJA2MJ",
        "colab": {
          "base_uri": "https://localhost:8080/"
        },
        "outputId": "d4245d86-7798-4bdf-fa34-f09d0c490dbf"
      },
      "outputs": [
        {
          "output_type": "stream",
          "name": "stderr",
          "text": [
            "/usr/local/lib/python3.10/dist-packages/numpy/lib/nanfunctions.py:1218: RuntimeWarning: All-NaN slice encountered\n",
            "  r, k = function_base._ureduce(a, func=_nanmedian, axis=axis, out=out,\n"
          ]
        },
        {
          "output_type": "execute_result",
          "data": {
            "text/plain": [
              "array([nan, nan, nan, nan, nan, nan, nan, nan, nan, nan])"
            ]
          },
          "metadata": {},
          "execution_count": 30
        }
      ],
      "source": [
        "data = np.random.random(1000).reshape(10, 10,10) * np.nan\n",
        "np.seterr(all=\"ignore\")\n",
        "np.nanmedian(data, axis=[1, 2])"
      ]
    },
    {
      "cell_type": "markdown",
      "metadata": {
        "id": "Ak4CIe20A2ML"
      },
      "source": [
        "#### 32. Is the following expressions true? (★☆☆) \n",
        "(**hint**: imaginary number)"
      ]
    },
    {
      "cell_type": "code",
      "execution_count": null,
      "metadata": {
        "id": "CszRiPDGA2MN",
        "colab": {
          "base_uri": "https://localhost:8080/"
        },
        "outputId": "e923fd54-a48f-463e-ad7a-67e9fa223f6c"
      },
      "outputs": [
        {
          "output_type": "stream",
          "name": "stdout",
          "text": [
            "False\n"
          ]
        }
      ],
      "source": [
        "exp=(np.sqrt(-1)==np.emath.sqrt(-1))\n",
        "print(exp)"
      ]
    },
    {
      "cell_type": "markdown",
      "metadata": {
        "id": "VGuncUAZA2MO"
      },
      "source": [
        "#### 33. How to get the dates of yesterday, today and tomorrow? (★☆☆) \n",
        "(**hint**: np.datetime64, np.timedelta64)"
      ]
    },
    {
      "cell_type": "code",
      "execution_count": null,
      "metadata": {
        "collapsed": true,
        "id": "vb0TsNKwA2MO",
        "colab": {
          "base_uri": "https://localhost:8080/"
        },
        "outputId": "9fcf1b76-2906-45aa-eb1e-822e8c2769e0"
      },
      "outputs": [
        {
          "output_type": "stream",
          "name": "stdout",
          "text": [
            "2023-04-30\n",
            "2023-05-01\n",
            "2023-05-02\n"
          ]
        }
      ],
      "source": [
        "Yesterday = np.datetime64('today')-np.timedelta64(1)\n",
        "Today = np.datetime64('today')\n",
        "Tomorrow = np.datetime64('today') + np.timedelta64(1)\n",
        "print(Yesterday)\n",
        "print(Today)\n",
        "print(Tomorrow)"
      ]
    },
    {
      "cell_type": "markdown",
      "metadata": {
        "id": "tMioi1umA2MP"
      },
      "source": [
        "#### 34. How to get all the dates corresponding to the month of July 2016? (★★☆) \n",
        "(**hint**: np.arange(dtype=datetime64\\['D'\\]))"
      ]
    },
    {
      "cell_type": "code",
      "execution_count": null,
      "metadata": {
        "id": "7dRB6cEVA2MQ"
      },
      "outputs": [],
      "source": []
    },
    {
      "cell_type": "markdown",
      "metadata": {
        "id": "pKN0HdUCA2MR"
      },
      "source": [
        "#### 35. How to compute ((A+B)\\*(-A/2)) in place (without copy)? (★★☆) \n",
        "(**hint**: np.add(out=), np.negative(out=), np.multiply(out=), np.divide(out=))"
      ]
    },
    {
      "cell_type": "code",
      "execution_count": null,
      "metadata": {
        "id": "CJi7unSAA2MS",
        "colab": {
          "base_uri": "https://localhost:8080/"
        },
        "outputId": "0ee8f341-5d68-40a8-a385-3a4465321929"
      },
      "outputs": [
        {
          "output_type": "execute_result",
          "data": {
            "text/plain": [
              "array([-1.5, -1.5, -1.5])"
            ]
          },
          "metadata": {},
          "execution_count": 33
        }
      ],
      "source": [
        "A = np.ones(3)*1\n",
        "B = np.ones(3)*2\n",
        "np.add(A,B,out=B)\n",
        "np.divide(A,2,out=A)\n",
        "np.negative(A,out=A)\n",
        "np.multiply(A,B,out=A)"
      ]
    },
    {
      "cell_type": "markdown",
      "metadata": {
        "id": "dJG5-WVtA2MS"
      },
      "source": [
        "#### 36. Extract the integer part of a random array using 5 different methods (★★☆) \n",
        "(**hint**: %, np.floor, np.ceil, astype, np.trunc)"
      ]
    },
    {
      "cell_type": "code",
      "execution_count": null,
      "metadata": {
        "id": "QWFiG7LXA2MT",
        "colab": {
          "base_uri": "https://localhost:8080/"
        },
        "outputId": "942ab4e9-eda5-425e-8855-79d0eef3d55f"
      },
      "outputs": [
        {
          "output_type": "stream",
          "name": "stdout",
          "text": [
            "[ 5. 16.  1.  6. 17.  2. 12. 13. 17.  2.]\n",
            "[ 5. 16.  1.  6. 17.  2. 12. 13. 17.  2.]\n",
            "[ 5. 16.  1.  6. 17.  2. 12. 13. 17.  2.]\n",
            "[ 5 16  1  6 17  2 12 13 17  2]\n",
            "[ 5. 16.  1.  6. 17.  2. 12. 13. 17.  2.]\n"
          ]
        }
      ],
      "source": [
        "int_part = np.random.uniform(0,20,10)\n",
        "\n",
        "print (int_part - int_part%1)\n",
        "print (np.floor(int_part))\n",
        "print (np.ceil(int_part)-1)\n",
        "print (int_part.astype(int))\n",
        "print (np.trunc(int_part))"
      ]
    },
    {
      "cell_type": "markdown",
      "metadata": {
        "id": "soS1bGCXA2MU"
      },
      "source": [
        "#### 37. Create a 5x5 matrix with row values ranging from 0 to 4 (★★☆) \n",
        "(**hint**: np.arange)"
      ]
    },
    {
      "cell_type": "code",
      "execution_count": null,
      "metadata": {
        "id": "tupq70tfA2MV",
        "colab": {
          "base_uri": "https://localhost:8080/"
        },
        "outputId": "4838b323-de21-4fce-ed0a-a15840f0f1c4"
      },
      "outputs": [
        {
          "output_type": "stream",
          "name": "stdout",
          "text": [
            "[[0. 1. 2. 3. 4.]\n",
            " [0. 1. 2. 3. 4.]\n",
            " [0. 1. 2. 3. 4.]\n",
            " [0. 1. 2. 3. 4.]\n",
            " [0. 1. 2. 3. 4.]]\n"
          ]
        }
      ],
      "source": [
        "matrix = np.zeros((5,5))   \n",
        "matrix += np.arange(5)\n",
        "print(matrix)"
      ]
    },
    {
      "cell_type": "markdown",
      "metadata": {
        "id": "TNkyGPOgA2MV"
      },
      "source": [
        "#### 38. Consider a generator function that generates 10 integers and use it to build an array (★☆☆) \n",
        "(**hint**: np.fromiter)"
      ]
    },
    {
      "cell_type": "code",
      "execution_count": null,
      "metadata": {
        "id": "yiBN2cHeA2MW",
        "colab": {
          "base_uri": "https://localhost:8080/"
        },
        "outputId": "d082ead1-db64-4d24-de02-a85bfcd7caae"
      },
      "outputs": [
        {
          "output_type": "stream",
          "name": "stdout",
          "text": [
            "[0 1 2 3 4 5 6 7 8 9]\n"
          ]
        }
      ],
      "source": [
        "def generate():\n",
        "  for x in range(10):\n",
        "     yield (x)\n",
        "gen= np.fromiter(generate(),dtype=int,count=-1)\n",
        "print(gen)"
      ]
    },
    {
      "cell_type": "markdown",
      "metadata": {
        "id": "p_Y8Y0PQA2MX"
      },
      "source": [
        "#### 39. Create a vector of size 10 with values ranging from 0 to 1, both excluded (★★☆) \n",
        "(**hint**: np.linspace)"
      ]
    },
    {
      "cell_type": "code",
      "execution_count": null,
      "metadata": {
        "id": "7aPgg_0MA2MY",
        "colab": {
          "base_uri": "https://localhost:8080/"
        },
        "outputId": "ce9d0b28-f5fe-435a-ea71-7904fe1f3334"
      },
      "outputs": [
        {
          "output_type": "stream",
          "name": "stdout",
          "text": [
            "[0.09090909 0.18181818 0.27272727 0.36363636 0.45454545 0.54545455\n",
            " 0.63636364 0.72727273 0.81818182 0.90909091]\n"
          ]
        }
      ],
      "source": [
        "vector=np.linspace(0,1,11,endpoint=False)[1:]\n",
        "print(vector)"
      ]
    },
    {
      "cell_type": "markdown",
      "metadata": {
        "id": "lnQyTEYSA2MZ"
      },
      "source": [
        "#### 40. Create a random vector of size 10 and sort it (★★☆) \n",
        "(**hint**: sort)"
      ]
    },
    {
      "cell_type": "code",
      "execution_count": null,
      "metadata": {
        "id": "tT34l4tWA2Ma",
        "colab": {
          "base_uri": "https://localhost:8080/"
        },
        "outputId": "180236e8-4e9b-46e2-9d52-e630bc7ab1cc"
      },
      "outputs": [
        {
          "output_type": "stream",
          "name": "stdout",
          "text": [
            "[0.01077201 0.10583637 0.49909578 0.55917514 0.56023794 0.56226084\n",
            " 0.64976888 0.76963222 0.8687242  0.88964317]\n"
          ]
        }
      ],
      "source": [
        "vect=np.random.random(10)\n",
        "vector=np.sort(vect)\n",
        "print(vector)"
      ]
    },
    {
      "cell_type": "markdown",
      "metadata": {
        "id": "deSV3sxVA2Mc"
      },
      "source": [
        "#### 41. How to sum a small array faster than np.sum? (★★☆) \n",
        "(**hint**: np.add.reduce)"
      ]
    },
    {
      "cell_type": "code",
      "execution_count": null,
      "metadata": {
        "id": "nqMbWMxIA2Md",
        "colab": {
          "base_uri": "https://localhost:8080/"
        },
        "outputId": "d7568172-24e0-4089-f061-fe7a77145854"
      },
      "outputs": [
        {
          "output_type": "stream",
          "name": "stdout",
          "text": [
            "45\n"
          ]
        }
      ],
      "source": [
        "array=np.arange(10)\n",
        "small_array=np.add.reduce(array)\n",
        "print(small_array)"
      ]
    },
    {
      "cell_type": "markdown",
      "metadata": {
        "id": "GkA7IDjuA2Md"
      },
      "source": [
        "#### 42. Consider two random array A and B, check if they are equal (★★☆) \n",
        "(**hint**: np.allclose, np.array\\_equal)"
      ]
    },
    {
      "cell_type": "code",
      "execution_count": null,
      "metadata": {
        "id": "qdFrshZjA2Mt",
        "colab": {
          "base_uri": "https://localhost:8080/"
        },
        "outputId": "62fc3d03-0b66-4a6f-de16-3d1a64da5e34"
      },
      "outputs": [
        {
          "output_type": "stream",
          "name": "stdout",
          "text": [
            "False\n",
            "False\n"
          ]
        }
      ],
      "source": [
        "A=np.random.random(10)\n",
        "B=np.random.random(10)\n",
        "One=np.array_equal(A,B)\n",
        "print(One)\n",
        "Two=np.allclose(A,B)\n",
        "print(Two)"
      ]
    },
    {
      "cell_type": "markdown",
      "metadata": {
        "id": "Fkw8A2BpA2Mv"
      },
      "source": [
        "#### 43. Make an array immutable (read-only) (★★☆) \n",
        "(**hint**: flags.writeable)"
      ]
    },
    {
      "cell_type": "code",
      "execution_count": null,
      "metadata": {
        "id": "v5_gIfhZA2Mv"
      },
      "outputs": [],
      "source": [
        "array= np.zeros(10)\n",
        "array.flags.writeable=False\n",
        "#array[0]=1           ############ ValueError: assignment destination is read-only"
      ]
    },
    {
      "cell_type": "markdown",
      "metadata": {
        "id": "G1z7iMRYA2Mw"
      },
      "source": [
        "#### 44. Consider a random 10x2 matrix representing cartesian coordinates, convert them to polar coordinates (★★☆) \n",
        "(**hint**: np.sqrt, np.arctan2)"
      ]
    },
    {
      "cell_type": "code",
      "execution_count": null,
      "metadata": {
        "id": "e4DZSeAuA2Mx",
        "colab": {
          "base_uri": "https://localhost:8080/"
        },
        "outputId": "f81a2704-01d7-4374-c86b-70418d0552f8"
      },
      "outputs": [
        {
          "output_type": "stream",
          "name": "stdout",
          "text": [
            "[1.21822444 1.30742979 1.35940993 0.6580082  0.86542228 1.14556343\n",
            " 1.22787568 0.57233099 0.83594314 0.72311528]\n",
            "[0.6840789  0.74956176 0.75725474 0.00149035 0.02922188 0.68028747\n",
            " 0.95092426 0.25637129 1.14170843 0.94191329]\n"
          ]
        }
      ],
      "source": [
        "Z = np.random.random((10,2))\n",
        "X,Y = Z[:,0], Z[:,1]\n",
        "R = np.sqrt(X**2+Y**2)\n",
        "T = np.arctan2(Y,X)\n",
        "print(R)\n",
        "print(T)"
      ]
    },
    {
      "cell_type": "markdown",
      "metadata": {
        "id": "a0EfZMDHA2My"
      },
      "source": [
        "#### 45. Create random vector of size 10 and replace the maximum value by 0 (★★☆) \n",
        "(**hint**: argmax)"
      ]
    },
    {
      "cell_type": "code",
      "execution_count": null,
      "metadata": {
        "id": "AFHf3A2NA2Mz",
        "colab": {
          "base_uri": "https://localhost:8080/"
        },
        "outputId": "3b897165-f74c-4eac-bc76-344b1c4a3f07"
      },
      "outputs": [
        {
          "output_type": "stream",
          "name": "stdout",
          "text": [
            "[0.         0.71242692 0.20017044 0.79288332 0.52459632 0.31532246\n",
            " 0.24457978 0.44455165 0.02960658 0.63035166]\n"
          ]
        }
      ],
      "source": [
        "random_vector = np.random.random(10)\n",
        "random_vector[random_vector.argmax()] = 0\n",
        "print(random_vector)"
      ]
    },
    {
      "cell_type": "markdown",
      "metadata": {
        "id": "HFVSclFwA2Mz"
      },
      "source": [
        "#### 46. Create a structured array with `x` and `y` coordinates covering the \\[0,1\\]x\\[0,1\\] area (★★☆) \n",
        "(**hint**: np.meshgrid)"
      ]
    },
    {
      "cell_type": "code",
      "execution_count": null,
      "metadata": {
        "id": "z3kpN10uA2M0",
        "colab": {
          "base_uri": "https://localhost:8080/"
        },
        "outputId": "db4ab113-ec07-472f-ef76-1e0985b35530"
      },
      "outputs": [
        {
          "output_type": "stream",
          "name": "stdout",
          "text": [
            "[[(0.  , 0.  ) (0.25, 0.  ) (0.5 , 0.  ) (0.75, 0.  ) (1.  , 0.  )]\n",
            " [(0.  , 0.25) (0.25, 0.25) (0.5 , 0.25) (0.75, 0.25) (1.  , 0.25)]\n",
            " [(0.  , 0.5 ) (0.25, 0.5 ) (0.5 , 0.5 ) (0.75, 0.5 ) (1.  , 0.5 )]\n",
            " [(0.  , 0.75) (0.25, 0.75) (0.5 , 0.75) (0.75, 0.75) (1.  , 0.75)]\n",
            " [(0.  , 1.  ) (0.25, 1.  ) (0.5 , 1.  ) (0.75, 1.  ) (1.  , 1.  )]]\n"
          ]
        }
      ],
      "source": [
        "area = np.zeros((5,5),[('x',float),('y',float)])\n",
        "area['x'],area['y'] = np.meshgrid(np.linspace(0,1,5),np.linspace(0,1,5))\n",
        "print(area)"
      ]
    },
    {
      "cell_type": "markdown",
      "metadata": {
        "id": "xjgTRaOqA2NK"
      },
      "source": [
        "####  47. Given two arrays, X and Y, construct the Cauchy matrix C (Cij =1/(xi - yj)) \n",
        "(**hint**: np.subtract.outer)"
      ]
    },
    {
      "cell_type": "code",
      "execution_count": null,
      "metadata": {
        "id": "VXYs_kZYA2NO"
      },
      "outputs": [],
      "source": []
    },
    {
      "cell_type": "markdown",
      "metadata": {
        "id": "g1kbn6k8A2NP"
      },
      "source": [
        "#### 48. Print the minimum and maximum representable value for each numpy scalar type (★★☆) \n",
        "(**hint**: np.iinfo, np.finfo, eps)"
      ]
    },
    {
      "cell_type": "code",
      "execution_count": null,
      "metadata": {
        "id": "YG0YqtDXA2NQ",
        "colab": {
          "base_uri": "https://localhost:8080/"
        },
        "outputId": "98979814-a6c1-4eb9-e681-e5b63ba6d134"
      },
      "outputs": [
        {
          "output_type": "stream",
          "name": "stdout",
          "text": [
            "-128\n",
            "127\n",
            "-2147483648\n",
            "2147483647\n",
            "-9223372036854775808\n",
            "9223372036854775807\n",
            "-3.4028235e+38\n",
            "3.4028235e+38\n",
            "1.1920929e-07\n",
            "-1.7976931348623157e+308\n",
            "1.7976931348623157e+308\n",
            "2.220446049250313e-16\n"
          ]
        }
      ],
      "source": [
        "for dtype in [np.int8, np.int32, np.int64]:\n",
        "   print(np.iinfo(dtype).min)\n",
        "   print(np.iinfo(dtype).max)\n",
        "for dtype in [np.float32, np.float64]:\n",
        "   print(np.finfo(dtype).min)\n",
        "   print(np.finfo(dtype).max)\n",
        "   print(np.finfo(dtype).eps)"
      ]
    },
    {
      "cell_type": "markdown",
      "metadata": {
        "id": "6BBJpuiBA2NQ"
      },
      "source": [
        "#### 49. How to print all the values of an array? (★★☆) \n",
        "(**hint**: np.set\\_printoptions)"
      ]
    },
    {
      "cell_type": "code",
      "execution_count": null,
      "metadata": {
        "id": "6ClNMzsQA2NR",
        "colab": {
          "base_uri": "https://localhost:8080/"
        },
        "outputId": "9187ec00-7f75-4922-8243-9da9464752d7"
      },
      "outputs": [
        {
          "output_type": "stream",
          "name": "stdout",
          "text": [
            "[[1. 1. 1. 1.]\n",
            " [1. 1. 1. 1.]\n",
            " [1. 1. 1. 1.]\n",
            " [1. 1. 1. 1.]]\n"
          ]
        }
      ],
      "source": [
        "values = np.ones((4,4))\n",
        "np.set_printoptions(threshold=float(inf))\n",
        "print(values)"
      ]
    },
    {
      "cell_type": "markdown",
      "metadata": {
        "id": "mIem6JkRA2NS"
      },
      "source": [
        "#### 50. How to find the closest value (to a given scalar) in a vector? (★★☆) \n",
        "(**hint**: argmin)"
      ]
    },
    {
      "cell_type": "code",
      "execution_count": null,
      "metadata": {
        "id": "UMcEIW1wA2NT",
        "colab": {
          "base_uri": "https://localhost:8080/"
        },
        "outputId": "f2c8dcb7-6824-43dd-c24f-3b494fb1c8c7"
      },
      "outputs": [
        {
          "output_type": "stream",
          "name": "stdout",
          "text": [
            "43\n"
          ]
        }
      ],
      "source": [
        "closest_value= np.arange(100)\n",
        "vector = np.random.uniform(0,100)\n",
        "index = (np.abs(closest_value-vector)).argmin()\n",
        "print(closest_value[index])"
      ]
    },
    {
      "cell_type": "markdown",
      "metadata": {
        "id": "hhYnL5rpA2NT"
      },
      "source": [
        "#### 51. Create a structured array representing a position (x,y) and a color (r,g,b) (★★☆) \n",
        "(**hint**: dtype)"
      ]
    },
    {
      "cell_type": "code",
      "execution_count": null,
      "metadata": {
        "id": "Z8jfkJRiA2NU",
        "colab": {
          "base_uri": "https://localhost:8080/"
        },
        "outputId": "6f418cd5-d9a9-48be-bb6b-3163c031a9e5"
      },
      "outputs": [
        {
          "output_type": "stream",
          "name": "stdout",
          "text": [
            "[((1., 1.), (1., 1., 1.)) ((1., 1.), (1., 1., 1.))\n",
            " ((1., 1.), (1., 1., 1.)) ((1., 1.), (1., 1., 1.))\n",
            " ((1., 1.), (1., 1., 1.)) ((1., 1.), (1., 1., 1.))\n",
            " ((1., 1.), (1., 1., 1.)) ((1., 1.), (1., 1., 1.))\n",
            " ((1., 1.), (1., 1., 1.)) ((1., 1.), (1., 1., 1.))]\n"
          ]
        },
        {
          "output_type": "stream",
          "name": "stderr",
          "text": [
            "/usr/local/lib/python3.10/dist-packages/numpy/core/numeric.py:204: FutureWarning: Passing (type, 1) or '1type' as a synonym of type is deprecated; in a future version of numpy, it will be understood as (type, (1,)) / '(1,)type'.\n",
            "  a = empty(shape, dtype, order)\n"
          ]
        }
      ],
      "source": [
        "Z = np.ones (10, [ ('position', [ ('x', float, 1),\n",
        "                                  ('y', float, 1)]),\n",
        "                   ('color',    [ ('r', float, 1),\n",
        "                                  ('g', float, 1),\n",
        "                                  ('b', float, 1)])])\n",
        "print(Z)"
      ]
    },
    {
      "cell_type": "markdown",
      "metadata": {
        "id": "J2buJaQQA2NV"
      },
      "source": [
        "#### 52. Consider a random vector with shape (100,2) representing coordinates, find point by point distances (★★☆) \n",
        "(**hint**: np.atleast\\_2d, T, np.sqrt)"
      ]
    },
    {
      "cell_type": "code",
      "execution_count": null,
      "metadata": {
        "id": "sopQ5JL1A2NV",
        "colab": {
          "base_uri": "https://localhost:8080/"
        },
        "outputId": "8644cd11-5d5e-49ac-be13-b0d3e8e126e4"
      },
      "outputs": [
        {
          "output_type": "stream",
          "name": "stdout",
          "text": [
            "[[0.         0.59026293 0.16092577 0.36767018 0.5756965  0.80902938\n",
            "  0.30062795 0.76538727 0.63398223 0.88242949]\n",
            " [0.59026293 0.         0.69458818 0.8155528  0.24696666 0.49562994\n",
            "  0.88946997 0.33901492 0.14910858 0.51480054]\n",
            " [0.16092577 0.69458818 0.         0.47040113 0.71856607 0.9635372\n",
            "  0.26658663 0.90789446 0.70852252 1.03414781]\n",
            " [0.36767018 0.8155528  0.47040113 0.         0.68474777 0.81100017\n",
            "  0.33140197 0.84785876 0.90819054 0.89863835]\n",
            " [0.5756965  0.24696666 0.71856607 0.68474777 0.         0.28068035\n",
            "  0.84716502 0.18978817 0.39568147 0.32973037]\n",
            " [0.80902938 0.49562994 0.9635372  0.81100017 0.28068035 0.\n",
            "  1.04523968 0.17814522 0.64018729 0.08879255]\n",
            " [0.30062795 0.88946997 0.26658663 0.33140197 0.84716502 1.04523968\n",
            "  0.         1.03313578 0.93328332 1.12671735]\n",
            " [0.76538727 0.33901492 0.90789446 0.84785876 0.18978817 0.17814522\n",
            "  1.03313578 0.         0.47579583 0.17641476]\n",
            " [0.63398223 0.14910858 0.70852252 0.90819054 0.39568147 0.64018729\n",
            "  0.93328332 0.47579583 0.         0.65208714]\n",
            " [0.88242949 0.51480054 1.03414781 0.89863835 0.32973037 0.08879255\n",
            "  1.12671735 0.17641476 0.65208714 0.        ]]\n"
          ]
        }
      ],
      "source": [
        "a= np.random.random((10,2))\n",
        "x,y = np.atleast_2d(a[:,0], a[:,1])\n",
        "d = np.sqrt( (x-x.T)**2 + (y-y.T)**2)\n",
        "print(d)"
      ]
    },
    {
      "cell_type": "markdown",
      "metadata": {
        "id": "tCtgEvPWA2NW"
      },
      "source": [
        "#### 53. How to convert a float (32 bits) array into an integer (32 bits) in place? \n",
        "(**hint**: astype(copy=False))"
      ]
    },
    {
      "cell_type": "code",
      "execution_count": null,
      "metadata": {
        "id": "mRs91uSgA2Na",
        "colab": {
          "base_uri": "https://localhost:8080/"
        },
        "outputId": "4c19213c-8727-4707-95bf-c8b3b5949dbe"
      },
      "outputs": [
        {
          "output_type": "stream",
          "name": "stdout",
          "text": [
            "[8 5 1 4 8 5 0 8 6 9]\n"
          ]
        }
      ],
      "source": [
        "Z = (np.random.rand(10)*10).astype(np.float32)\n",
        "Y = Z.view(np.int32)\n",
        "Y[:] = Z\n",
        "print(Y)"
      ]
    },
    {
      "cell_type": "markdown",
      "metadata": {
        "id": "PcwaeV8NA2Nb"
      },
      "source": [
        "#### 54. How to read the following file? (★★☆) \n",
        "(**hint**: np.genfromtxt)"
      ]
    },
    {
      "cell_type": "markdown",
      "metadata": {
        "id": "iZ0KfHzMA2Nb"
      },
      "source": [
        "```\n",
        "1, 2, 3, 4, 5\n",
        "6,  ,  , 7, 8\n",
        " ,  , 9,10,11\n",
        "```"
      ]
    },
    {
      "cell_type": "code",
      "execution_count": null,
      "metadata": {
        "id": "lRxn2ujyA2Nc"
      },
      "outputs": [],
      "source": []
    },
    {
      "cell_type": "markdown",
      "metadata": {
        "id": "NO3mLgdTA2Nd"
      },
      "source": [
        "#### 55. What is the equivalent of enumerate for numpy arrays? (★★☆) \n",
        "(**hint**: np.ndenumerate, np.ndindex)"
      ]
    },
    {
      "cell_type": "code",
      "execution_count": null,
      "metadata": {
        "id": "kzQfhkfdA2Ne",
        "colab": {
          "base_uri": "https://localhost:8080/"
        },
        "outputId": "c29652f5-0c38-47c5-8851-d3902b1d17a0"
      },
      "outputs": [
        {
          "output_type": "stream",
          "name": "stdout",
          "text": [
            "(0, 0, 0) 0\n",
            "(0, 0, 1) 1\n",
            "(0, 1, 0) 2\n",
            "(0, 1, 1) 3\n",
            "(1, 0, 0) 4\n",
            "(1, 0, 1) 5\n",
            "(1, 1, 0) 6\n",
            "(1, 1, 1) 7\n",
            "(0, 0, 0) 0\n",
            "(0, 0, 1) 1\n",
            "(0, 1, 0) 2\n",
            "(0, 1, 1) 3\n",
            "(1, 0, 0) 4\n",
            "(1, 0, 1) 5\n",
            "(1, 1, 0) 6\n",
            "(1, 1, 1) 7\n"
          ]
        }
      ],
      "source": [
        "array = np.arange(8).reshape(2,2,2)\n",
        "for index, value in np.ndenumerate(array):\n",
        "    print(index, value)\n",
        "for index in np.ndindex(array.shape):\n",
        "    print(index, array[index])"
      ]
    },
    {
      "cell_type": "markdown",
      "metadata": {
        "id": "LasiokXQA2Nf"
      },
      "source": [
        "#### 56. Generate a generic 2D Gaussian-like array (★★☆) \n",
        "(**hint**: np.meshgrid, np.exp)"
      ]
    },
    {
      "cell_type": "code",
      "execution_count": null,
      "metadata": {
        "id": "qrsWQ_SIA2Ng"
      },
      "outputs": [],
      "source": []
    },
    {
      "cell_type": "markdown",
      "metadata": {
        "id": "o6Ejq7D4A2Ng"
      },
      "source": [
        "#### 57. How to randomly place p elements in a 2D array? (★★☆) \n",
        "(**hint**: np.put, np.random.choice)"
      ]
    },
    {
      "cell_type": "code",
      "execution_count": null,
      "metadata": {
        "id": "gtfpX_43A2Nh",
        "colab": {
          "base_uri": "https://localhost:8080/"
        },
        "outputId": "1be62605-40de-44e0-d7c3-954533b51b73"
      },
      "outputs": [
        {
          "output_type": "stream",
          "name": "stdout",
          "text": [
            "[[1. 1. 1. 1. 1. 1. 1. 1. 1. 1.]\n",
            " [1. 1. 1. 1. 1. 1. 1. 1. 1. 1.]\n",
            " [1. 1. 1. 1. 1. 1. 1. 1. 1. 1.]\n",
            " [1. 1. 1. 1. 1. 1. 1. 1. 1. 1.]\n",
            " [1. 1. 1. 1. 1. 1. 1. 1. 1. 1.]\n",
            " [1. 1. 1. 1. 1. 1. 1. 1. 1. 1.]\n",
            " [1. 1. 1. 1. 1. 1. 1. 1. 1. 1.]\n",
            " [1. 1. 1. 1. 1. 1. 1. 1. 1. 1.]\n",
            " [1. 1. 1. 1. 1. 1. 1. 1. 1. 1.]\n",
            " [1. 1. 1. 1. 1. 1. 1. 1. 1. 1.]]\n"
          ]
        }
      ],
      "source": [
        "num= 10\n",
        "p = 3\n",
        "array= np.ones((num,num))\n",
        "np.put(array, np.random.choice(range(num*num), p, replace=False),1)\n",
        "print(array)"
      ]
    },
    {
      "cell_type": "markdown",
      "metadata": {
        "id": "bKi00gSYA2Nh"
      },
      "source": [
        "#### 58. Subtract the mean of each row of a matrix (★★☆) \n",
        "(**hint**: mean(axis=,keepdims=))"
      ]
    },
    {
      "cell_type": "code",
      "execution_count": null,
      "metadata": {
        "id": "hS4BChYJA2Ni",
        "colab": {
          "base_uri": "https://localhost:8080/"
        },
        "outputId": "277a5ec2-8645-4b7b-c07f-b64d08646080"
      },
      "outputs": [
        {
          "output_type": "stream",
          "name": "stdout",
          "text": [
            "[[ 0.10801047  0.45108193 -0.36220168 -0.2977984   0.46716726 -0.36625958]\n",
            " [ 0.42589698 -0.0693241  -0.3038057  -0.14194465 -0.15791105  0.24708852]\n",
            " [-0.37607543 -0.16527776 -0.40642703  0.4162726   0.19323492  0.3382727 ]]\n"
          ]
        }
      ],
      "source": [
        "array = np.random.rand (3,6)\n",
        "mean_row = array - array.mean (axis=1,keepdims=True)\n",
        "print(mean_row)\n"
      ]
    },
    {
      "cell_type": "markdown",
      "metadata": {
        "id": "zdUBgkOPA2Nj"
      },
      "source": [
        "#### 59. How to sort an array by the nth column? (★★☆) \n",
        "(**hint**: argsort)"
      ]
    },
    {
      "cell_type": "code",
      "execution_count": null,
      "metadata": {
        "id": "2emrr9OwA2Nk",
        "colab": {
          "base_uri": "https://localhost:8080/"
        },
        "outputId": "f82cfaf4-8e4e-4995-a88d-360b7471762f"
      },
      "outputs": [
        {
          "output_type": "stream",
          "name": "stdout",
          "text": [
            "[[0 7 1 1 1 3 3 5]\n",
            " [0 7 0 5 6 6 2 4]]\n",
            "[[0 7 1 1 1 3 3 5]\n",
            " [0 7 0 5 6 6 2 4]]\n"
          ]
        }
      ],
      "source": [
        "array= np.random.randint(0,8,(2,8))\n",
        "print(array)\n",
        "print(array[array[:,1].argsort()])"
      ]
    },
    {
      "cell_type": "markdown",
      "metadata": {
        "id": "mWAEkJRpA2Nk"
      },
      "source": [
        "#### 60. How to tell if a given 2D array has null columns? (★★☆) \n",
        "(**hint**: any, ~)"
      ]
    },
    {
      "cell_type": "code",
      "execution_count": null,
      "metadata": {
        "id": "JOfBQfsZA2Nl",
        "colab": {
          "base_uri": "https://localhost:8080/"
        },
        "outputId": "c7e6ec2d-b39b-473c-a6e9-be7be332fda1"
      },
      "outputs": [
        {
          "output_type": "stream",
          "name": "stdout",
          "text": [
            "[[2 2 4 4 3 2 2 2 3 4 2 2 0 2 1]\n",
            " [4 1 2 4 0 2 3 1 3 3 4 2 0 4 1]\n",
            " [3 4 0 2 4 3 1 1 1 1 1 0 1 1 1]]\n",
            "False\n"
          ]
        }
      ],
      "source": [
        "nums = np.random.randint(0,5,(3,15))\n",
        "print(nums)\n",
        "print((~nums.any(axis=0)).any())"
      ]
    },
    {
      "cell_type": "markdown",
      "metadata": {
        "id": "CDE19EDsA2Nl"
      },
      "source": [
        "#### 61. Find the nearest value from a given value in an array (★★☆) \n",
        "(**hint**: np.abs, argmin, flat)"
      ]
    },
    {
      "cell_type": "code",
      "execution_count": null,
      "metadata": {
        "id": "UDoTM_nLA2Nm",
        "colab": {
          "base_uri": "https://localhost:8080/"
        },
        "outputId": "386c80d9-fba8-4b02-ec38-109c28a05b5d"
      },
      "outputs": [
        {
          "output_type": "stream",
          "name": "stdout",
          "text": [
            "0.9096853433829555\n"
          ]
        }
      ],
      "source": [
        "array= np.random.uniform(0,5,12)\n",
        "number = 1\n",
        "value = array.flat [np.abs(array - number).argmin()]\n",
        "print(value)"
      ]
    },
    {
      "cell_type": "markdown",
      "metadata": {
        "id": "hLjSPmeAA2Nm"
      },
      "source": [
        "#### 62. Considering two arrays with shape (1,3) and (3,1), how to compute their sum using an iterator? (★★☆) \n",
        "(**hint**: np.nditer)"
      ]
    },
    {
      "cell_type": "code",
      "execution_count": null,
      "metadata": {
        "id": "efq0K4vMA2Nm"
      },
      "outputs": [],
      "source": []
    },
    {
      "cell_type": "markdown",
      "metadata": {
        "id": "Tgj-GJCOA2Nn"
      },
      "source": [
        "#### 63. Create an array class that has a name attribute (★★☆) \n",
        "(**hint**: class method)"
      ]
    },
    {
      "cell_type": "code",
      "execution_count": null,
      "metadata": {
        "id": "ekfCgWMLA2Nn",
        "colab": {
          "base_uri": "https://localhost:8080/"
        },
        "outputId": "479fa7b3-2b0e-4978-9de9-3abbd744f7e2"
      },
      "outputs": [
        {
          "output_type": "stream",
          "name": "stdout",
          "text": [
            "range_10\n"
          ]
        }
      ],
      "source": [
        "class NamedArray(np.ndarray):\n",
        "    def __new__(cls, array, name='attribute'):\n",
        "        obj = np.asarray(array).view(cls)\n",
        "        obj.name = name\n",
        "        return obj\n",
        "    def __array_finalize__(self, obj):\n",
        "        if obj is None: return\n",
        "        self.name = getattr(obj, 'name','attribute')\n",
        "\n",
        "Z = NamedArray(np.arange(10), \"range_10\")\n",
        "print (Z.name)"
      ]
    },
    {
      "cell_type": "markdown",
      "metadata": {
        "id": "1MvGFMYcA2Nn"
      },
      "source": [
        "#### 64. Consider a given vector, how to add 1 to each element indexed by a second vector (be careful with repeated indices)? (★★★) \n",
        "(**hint**: np.bincount | np.add.at)"
      ]
    },
    {
      "cell_type": "code",
      "execution_count": null,
      "metadata": {
        "id": "Jt01fPbAA2No"
      },
      "outputs": [],
      "source": []
    },
    {
      "cell_type": "markdown",
      "metadata": {
        "id": "s0W-aTolA2No"
      },
      "source": [
        "#### 65. How to accumulate elements of a vector (X) to an array (F) based on an index list (I)? (★★★) \n",
        "(**hint**: np.bincount)"
      ]
    },
    {
      "cell_type": "code",
      "execution_count": null,
      "metadata": {
        "id": "jhluI0FLA2Np"
      },
      "outputs": [],
      "source": []
    },
    {
      "cell_type": "markdown",
      "metadata": {
        "id": "wu-FJOAEA2Np"
      },
      "source": [
        "#### 66. Considering a (w,h,3) image of (dtype=ubyte), compute the number of unique colors (★★★) \n",
        "(**hint**: np.unique)"
      ]
    },
    {
      "cell_type": "code",
      "execution_count": null,
      "metadata": {
        "id": "ntQ_83lTA2Np"
      },
      "outputs": [],
      "source": []
    },
    {
      "cell_type": "markdown",
      "metadata": {
        "id": "rom7kxJRA2Nq"
      },
      "source": [
        "#### 67. Considering a four dimensions array, how to get sum over the last two axis at once? (★★★) \n",
        "(**hint**: sum(axis=(-2,-1)))"
      ]
    },
    {
      "cell_type": "code",
      "execution_count": null,
      "metadata": {
        "id": "IUjzZsGhA2Nr"
      },
      "outputs": [],
      "source": []
    },
    {
      "cell_type": "markdown",
      "metadata": {
        "id": "Q0SnT2JQA2Nr"
      },
      "source": [
        "#### 68. Considering a one-dimensional vector D, how to compute means of subsets of D using a vector S of same size describing subset  indices? (★★★) \n",
        "(**hint**: np.bincount)"
      ]
    },
    {
      "cell_type": "code",
      "execution_count": null,
      "metadata": {
        "id": "2Pd7PFb0A2Ns"
      },
      "outputs": [],
      "source": []
    },
    {
      "cell_type": "markdown",
      "metadata": {
        "id": "4WdLgl6JA2Ns"
      },
      "source": [
        "#### 69. How to get the diagonal of a dot product? (★★★) \n",
        "(**hint**: np.diag)"
      ]
    },
    {
      "cell_type": "code",
      "execution_count": null,
      "metadata": {
        "id": "GWKRbSxwA2Nt",
        "colab": {
          "base_uri": "https://localhost:8080/"
        },
        "outputId": "b3430d8a-dd3b-458f-a4fa-46a84bb2703a"
      },
      "outputs": [
        {
          "output_type": "stream",
          "name": "stdout",
          "text": [
            "[2.56234959 4.13645415 2.98952585 1.9012818  1.83504945 2.79671753\n",
            " 2.93380272 2.30461089 2.31213812 2.41282541]\n",
            "[[0.80787669 0.18051122 0.85553793 0.90021807 0.96771317 0.2509146\n",
            "  0.30232106 0.84326692 0.36492789 0.90154986]\n",
            " [0.55089982 0.88451077 0.47578345 0.25516029 0.35210789 0.26937734\n",
            "  0.94993313 0.91521268 0.67575033 0.92791305]\n",
            " [0.23397437 0.69704588 0.17375246 0.58177569 0.95699796 0.64592699\n",
            "  0.10441787 0.00165407 0.41114222 0.81248775]\n",
            " [0.57386058 0.97933182 0.29154267 0.28827379 0.1069282  0.62576776\n",
            "  0.43105924 0.15345776 0.71680171 0.0850846 ]\n",
            " [0.32667843 0.62295143 0.14672688 0.99854795 0.16293202 0.6021607\n",
            "  0.74678715 0.00534785 0.31257128 0.23838683]\n",
            " [0.23144591 0.13641549 0.22301502 0.8520221  0.89851834 0.61962267\n",
            "  0.36960894 0.97247704 0.38372561 0.99727938]\n",
            " [0.56093628 0.13275168 0.48010141 0.06986557 0.76121315 0.85182435\n",
            "  0.52799886 0.78493632 0.7003554  0.77300864]\n",
            " [0.71787712 0.49278776 0.75825009 0.87146773 0.78053637 0.00956759\n",
            "  0.98799607 0.44463869 0.94351271 0.47720868]\n",
            " [0.54368114 0.07868816 0.13512558 0.05782572 0.44678942 0.29520338\n",
            "  0.87496892 0.70380297 0.2676141  0.84806222]\n",
            " [0.88780798 0.64098759 0.2450008  0.66799137 0.8828235  0.8127369\n",
            "  0.24582251 0.1104404  0.28369365 0.10073778]]\n"
          ]
        }
      ],
      "source": [
        "array1= np.random.rand(10,10)\n",
        "array2 = np.random.rand(10,10)\n",
        "\n",
        "print(np.diag(np.dot(array1, array2)))\n",
        "print(array1)"
      ]
    },
    {
      "cell_type": "markdown",
      "metadata": {
        "id": "Wuk0dBwQA2Nt"
      },
      "source": [
        "#### 70. Consider the vector \\[1, 2, 3, 4, 5\\], how to build a new vector with 3 consecutive zeros interleaved between each value? (★★★) \n",
        "(**hint**: array\\[::4\\])"
      ]
    },
    {
      "cell_type": "code",
      "execution_count": null,
      "metadata": {
        "id": "1v17-eixA2Nu",
        "colab": {
          "base_uri": "https://localhost:8080/"
        },
        "outputId": "7cc119d5-a94f-47c0-ddf6-aaf3b236e3d8"
      },
      "outputs": [
        {
          "output_type": "stream",
          "name": "stdout",
          "text": [
            "[1 2 3 4 5]\n",
            "[1. 0. 0. 0. 2. 0. 0. 0. 3. 0. 0. 0. 4. 0. 0. 0. 5.]\n"
          ]
        }
      ],
      "source": [
        "vector= np.array([1,2,3,4,5])\n",
        "print(vector)\n",
        "p = 3\n",
        "\n",
        "new_vector = np.zeros(len(vector) + (len(vector)-1)*(p))\n",
        "new_vector[::p+1] = vector\n",
        "print(new_vector)"
      ]
    },
    {
      "cell_type": "markdown",
      "metadata": {
        "id": "GtRCjThLA2Nv"
      },
      "source": [
        "#### 71. Consider an array of dimension (5,5,3), how to mulitply it by an array with dimensions (5,5)? (★★★) \n",
        "(**hint**: array\\[:, :, None\\])"
      ]
    },
    {
      "cell_type": "code",
      "execution_count": null,
      "metadata": {
        "collapsed": true,
        "id": "bCzDPCFFA2Nv",
        "colab": {
          "base_uri": "https://localhost:8080/"
        },
        "outputId": "d7d4acba-f0b3-42cb-f65a-4f557267f648"
      },
      "outputs": [
        {
          "output_type": "stream",
          "name": "stdout",
          "text": [
            "[[[1. 1. 1.]\n",
            "  [1. 1. 1.]\n",
            "  [1. 1. 1.]\n",
            "  [1. 1. 1.]\n",
            "  [1. 1. 1.]]\n",
            "\n",
            " [[1. 1. 1.]\n",
            "  [1. 1. 1.]\n",
            "  [1. 1. 1.]\n",
            "  [1. 1. 1.]\n",
            "  [1. 1. 1.]]\n",
            "\n",
            " [[1. 1. 1.]\n",
            "  [1. 1. 1.]\n",
            "  [1. 1. 1.]\n",
            "  [1. 1. 1.]\n",
            "  [1. 1. 1.]]\n",
            "\n",
            " [[1. 1. 1.]\n",
            "  [1. 1. 1.]\n",
            "  [1. 1. 1.]\n",
            "  [1. 1. 1.]\n",
            "  [1. 1. 1.]]\n",
            "\n",
            " [[1. 1. 1.]\n",
            "  [1. 1. 1.]\n",
            "  [1. 1. 1.]\n",
            "  [1. 1. 1.]\n",
            "  [1. 1. 1.]]]\n",
            "[[[3. 3. 3.]\n",
            "  [3. 3. 3.]\n",
            "  [3. 3. 3.]\n",
            "  [3. 3. 3.]\n",
            "  [3. 3. 3.]]\n",
            "\n",
            " [[3. 3. 3.]\n",
            "  [3. 3. 3.]\n",
            "  [3. 3. 3.]\n",
            "  [3. 3. 3.]\n",
            "  [3. 3. 3.]]\n",
            "\n",
            " [[3. 3. 3.]\n",
            "  [3. 3. 3.]\n",
            "  [3. 3. 3.]\n",
            "  [3. 3. 3.]\n",
            "  [3. 3. 3.]]\n",
            "\n",
            " [[3. 3. 3.]\n",
            "  [3. 3. 3.]\n",
            "  [3. 3. 3.]\n",
            "  [3. 3. 3.]\n",
            "  [3. 3. 3.]]\n",
            "\n",
            " [[3. 3. 3.]\n",
            "  [3. 3. 3.]\n",
            "  [3. 3. 3.]\n",
            "  [3. 3. 3.]\n",
            "  [3. 3. 3.]]]\n"
          ]
        }
      ],
      "source": [
        "number1 = np.ones((5,5,3))\n",
        "number2 = 3*np.ones((5,5))\n",
        "print(number1)\n",
        "\n",
        "new_array = number1 * number2[:,:,None]\n",
        "print(new_array)"
      ]
    },
    {
      "cell_type": "markdown",
      "metadata": {
        "id": "NaXMCVhHA2Nw"
      },
      "source": [
        "#### 72. How to swap two rows of an array? (★★★) \n",
        "(**hint**: array\\[\\[\\]\\] = array\\[\\[\\]\\])"
      ]
    },
    {
      "cell_type": "code",
      "execution_count": null,
      "metadata": {
        "id": "lw4d3Y-nA2Ny",
        "colab": {
          "base_uri": "https://localhost:8080/"
        },
        "outputId": "f77c5847-ef90-41e9-af39-cfdea25b01fb"
      },
      "outputs": [
        {
          "output_type": "stream",
          "name": "stdout",
          "text": [
            "[[4 3 1]\n",
            " [5 7 0]\n",
            " [9 9 3]\n",
            " [8 2 4]]\n",
            "[[9 9 3]\n",
            " [5 7 0]\n",
            " [4 3 1]\n",
            " [8 2 4]]\n"
          ]
        }
      ],
      "source": [
        "array = np.array([[4,3, 1],[5 ,7, 0],[9, 9, 3],[8, 2, 4]]) \n",
        "print(array)\n",
        "array[[0, 2]] = array[[2, 0]]\n",
        "print(array)"
      ]
    },
    {
      "cell_type": "markdown",
      "metadata": {
        "id": "XpdwCLX6A2N0"
      },
      "source": [
        "#### 73. Consider a set of 10 triplets describing 10 triangles (with shared vertices), find the set of unique line segments composing all the  triangles (★★★) \n",
        "(**hint**: repeat, np.roll, np.sort, view, np.unique)"
      ]
    },
    {
      "cell_type": "code",
      "execution_count": null,
      "metadata": {
        "id": "9phFmYk0A2N1"
      },
      "outputs": [],
      "source": []
    },
    {
      "cell_type": "markdown",
      "metadata": {
        "id": "RUGugCYOA2N1"
      },
      "source": [
        "### 74.Given an array C that is a bincount, how to produce an array A such that np.bincount(A) == C? (★★★) \n",
        "(**hint**: np.repeat)"
      ]
    },
    {
      "cell_type": "code",
      "execution_count": null,
      "metadata": {
        "id": "rSE539wUA2N3",
        "colab": {
          "base_uri": "https://localhost:8080/"
        },
        "outputId": "0496d075-6804-4095-d947-8792bb0f90a2"
      },
      "outputs": [
        {
          "output_type": "stream",
          "name": "stdout",
          "text": [
            "[1 1 2 3 4 4 6]\n",
            "7\n"
          ]
        }
      ],
      "source": [
        "C = np.bincount([1,1,2,3,4,4,6])\n",
        "A = np.repeat(np.arange(len(C)), C)\n",
        "print(A)\n",
        "print(len(C))"
      ]
    },
    {
      "cell_type": "markdown",
      "metadata": {
        "id": "Z9A4TNbRA2N3"
      },
      "source": [
        "#### 75. How to compute averages using a sliding window over an array? (★★★) \n",
        "(**hint**: np.cumsum)"
      ]
    },
    {
      "cell_type": "code",
      "execution_count": null,
      "metadata": {
        "id": "syVkkC5pA2N4",
        "colab": {
          "base_uri": "https://localhost:8080/"
        },
        "outputId": "e212125f-325d-40b0-9e1b-4cab5eecc8b7"
      },
      "outputs": [
        {
          "output_type": "stream",
          "name": "stdout",
          "text": [
            "[2. 3. 4. 5. 6. 7. 8.]\n"
          ]
        }
      ],
      "source": [
        "def moving_average(a, n=5) :\n",
        "    test = np.cumsum(a, dtype=float)\n",
        "    test[n:] = test[n:] - test[:-n]\n",
        "    return test[n - 1:] / n\n",
        "\n",
        "array = np.arange(11)\n",
        "print(moving_average(array, n=5))"
      ]
    },
    {
      "cell_type": "markdown",
      "metadata": {
        "id": "B8Uk5ls4A2N5"
      },
      "source": [
        "#### 76. Consider a one-dimensional array Z, build a two-dimensional array whose first row is (Z\\[0\\],Z\\[1\\],Z\\[2\\]) and each subsequent row is  shifted by 1 (last row should be (Z\\[-3\\],Z\\[-2\\],Z\\[-1\\]) (★★★) \n",
        "(**hint**: from numpy.lib import stride_tricks)"
      ]
    },
    {
      "cell_type": "code",
      "execution_count": null,
      "metadata": {
        "id": "X2S7sO-wA2N5"
      },
      "outputs": [],
      "source": []
    },
    {
      "cell_type": "markdown",
      "metadata": {
        "id": "BT90hO3bA2N6"
      },
      "source": [
        "#### 77. How to negate a boolean, or to change the sign of a float inplace? (★★★) \n",
        "(**hint**: np.logical_not, np.negative)"
      ]
    },
    {
      "cell_type": "code",
      "execution_count": null,
      "metadata": {
        "id": "AudAfhoiA2N6"
      },
      "outputs": [],
      "source": []
    },
    {
      "cell_type": "markdown",
      "metadata": {
        "id": "1R6UPZgmA2N7"
      },
      "source": [
        "#### 78. Consider 2 sets of points P0,P1 describing lines (2d) and a point p, how to compute distance from p to each line i  (P0\\[i\\],P1\\[i\\])? (★★★)"
      ]
    },
    {
      "cell_type": "code",
      "execution_count": null,
      "metadata": {
        "id": "Eaty-ymPA2N8"
      },
      "outputs": [],
      "source": []
    },
    {
      "cell_type": "markdown",
      "metadata": {
        "id": "HDVGltW5A2N8"
      },
      "source": [
        "#### 79. Consider 2 sets of points P0,P1 describing lines (2d) and a set of points P, how to compute distance from each point j (P\\[j\\]) to each line i (P0\\[i\\],P1\\[i\\])? (★★★)"
      ]
    },
    {
      "cell_type": "code",
      "execution_count": null,
      "metadata": {
        "id": "ph3TCu_tA2N8"
      },
      "outputs": [],
      "source": []
    },
    {
      "cell_type": "markdown",
      "metadata": {
        "id": "b_pZsnZMA2N8"
      },
      "source": [
        "#### 80. Consider an arbitrary array, write a function that extract a subpart with a fixed shape and centered on a given element (pad with a `fill` value when necessary) (★★★) \n",
        "(**hint**: minimum, maximum)"
      ]
    },
    {
      "cell_type": "code",
      "execution_count": null,
      "metadata": {
        "id": "97Mnva9sA2N9"
      },
      "outputs": [],
      "source": []
    },
    {
      "cell_type": "markdown",
      "metadata": {
        "id": "H9qmVusBA2N9"
      },
      "source": [
        "#### 81. Consider an array Z = \\[1,2,3,4,5,6,7,8,9,10,11,12,13,14\\], how to generate an array R = \\[\\[1,2,3,4\\], \\[2,3,4,5\\], \\[3,4,5,6\\], ..., \\[11,12,13,14\\]\\]? (★★★) \n",
        "(**hint**: stride\\_tricks.as\\_strided)"
      ]
    },
    {
      "cell_type": "code",
      "execution_count": null,
      "metadata": {
        "id": "J-KWcINqA2N-"
      },
      "outputs": [],
      "source": []
    },
    {
      "cell_type": "markdown",
      "metadata": {
        "id": "f3t3XrZjA2N-"
      },
      "source": [
        "#### 82. Compute a matrix rank (★★★) \n",
        "(**hint**: np.linalg.svd) (suggestion: np.linalg.svd)"
      ]
    },
    {
      "cell_type": "code",
      "execution_count": null,
      "metadata": {
        "id": "BR7YKq2GA2N-",
        "colab": {
          "base_uri": "https://localhost:8080/"
        },
        "outputId": "58c0c3a6-de5d-41d9-9c09-d15967ed8c82"
      },
      "outputs": [
        {
          "output_type": "stream",
          "name": "stdout",
          "text": [
            "Matrix rank is: (array([[-0.34818254, -0.85229605,  0.08116512, -0.38180177],\n",
            "       [-0.40689172, -0.22850109, -0.3733219 ,  0.80178373],\n",
            "       [-0.47982228,  0.33767402, -0.66770825, -0.45816213],\n",
            "       [-0.69496664,  0.32765067,  0.63891211,  0.03818018]]), array([6.50128811e+01, 6.48977632e+00, 4.56173231e-01, 1.21024377e-15]), array([[-1.88949814e-01, -2.18634134e-01, -2.48318454e-01,\n",
            "        -9.24572890e-01],\n",
            "       [ 5.96927261e-01,  5.32907728e-01,  4.68888195e-01,\n",
            "        -3.73939913e-01],\n",
            "       [ 6.64311031e-01, -3.92657880e-02, -7.42842607e-01,\n",
            "         7.30336401e-02],\n",
            "       [ 4.08248290e-01, -8.16496581e-01,  4.08248290e-01,\n",
            "         2.22044605e-16]]))\n"
          ]
        }
      ],
      "source": [
        "matrix = np.array([[1, 2, 3, 23],\n",
        "                       [4, 5, 6, 25],\n",
        "                       [7, 8, 9, 28],\n",
        "                       [10, 11, 12, 41]])\n",
        "print(\"Matrix rank is:\",np.linalg.svd(matrix))"
      ]
    },
    {
      "cell_type": "markdown",
      "metadata": {
        "id": "U2HkmwClA2N_"
      },
      "source": [
        "#### 83. How to find the most frequent value in an array? \n",
        "(**hint**: np.bincount, argmax)"
      ]
    },
    {
      "cell_type": "code",
      "execution_count": null,
      "metadata": {
        "id": "v1gJHdwUA2N_",
        "colab": {
          "base_uri": "https://localhost:8080/"
        },
        "outputId": "540fd59f-8798-48bf-c622-149ae671beed"
      },
      "outputs": [
        {
          "output_type": "stream",
          "name": "stdout",
          "text": [
            "[0 0 2 5 4 8 0 0 5 8 4 5 2 9 0 4 5 3 4 2]\n",
            "0\n"
          ]
        }
      ],
      "source": [
        "x = np.random.randint(0, 10, 20)\n",
        "print(x)\n",
        "print(np.bincount(x).argmax())"
      ]
    },
    {
      "cell_type": "markdown",
      "metadata": {
        "id": "H2vTq7EQA2N_"
      },
      "source": [
        "#### 84. Extract all the contiguous 3x3 blocks from a random 10x10 matrix (★★★) \n",
        "(**hint**: stride\\_tricks.as\\_strided)"
      ]
    },
    {
      "cell_type": "code",
      "execution_count": null,
      "metadata": {
        "id": "kaJa_UK5A2OA"
      },
      "outputs": [],
      "source": []
    },
    {
      "cell_type": "markdown",
      "metadata": {
        "id": "EN3LqXgOA2OA"
      },
      "source": [
        "#### 85. Create a 2D array subclass such that Z\\[i,j\\] == Z\\[j,i\\] (★★★) \n",
        "(**hint**: class method)"
      ]
    },
    {
      "cell_type": "code",
      "execution_count": null,
      "metadata": {
        "id": "Rh8nR2zSA2OB"
      },
      "outputs": [],
      "source": []
    },
    {
      "cell_type": "markdown",
      "metadata": {
        "id": "vNxHwDZgA2OB"
      },
      "source": [
        "#### 86. Consider a set of p matrices wich shape (n,n) and a set of p vectors with shape (n,1). How to compute the sum of of the p matrix products at once? (result has shape (n,1)) (★★★) \n",
        "(**hint**: np.tensordot)"
      ]
    },
    {
      "cell_type": "code",
      "execution_count": null,
      "metadata": {
        "id": "E9mV2IzpA2OB"
      },
      "outputs": [],
      "source": []
    },
    {
      "cell_type": "markdown",
      "metadata": {
        "id": "PMck0x4eA2OC"
      },
      "source": [
        "#### 87. Consider a 16x16 array, how to get the block-sum (block size is 4x4)? (★★★) \n",
        "(**hint**: np.add.reduceat)"
      ]
    },
    {
      "cell_type": "code",
      "execution_count": null,
      "metadata": {
        "id": "GGhRI9-6A2OC"
      },
      "outputs": [],
      "source": []
    },
    {
      "cell_type": "markdown",
      "metadata": {
        "id": "PNPTy6c3A2OC"
      },
      "source": [
        "#### 88. How to implement the Game of Life using numpy arrays? (★★★)"
      ]
    },
    {
      "cell_type": "code",
      "execution_count": null,
      "metadata": {
        "id": "jUyWt4PrA2OC"
      },
      "outputs": [],
      "source": []
    },
    {
      "cell_type": "markdown",
      "metadata": {
        "id": "wsKMpM3cA2OD"
      },
      "source": [
        "#### 89. How to get the n largest values of an array (★★★) \n",
        "(**hint**: np.argsort | np.argpartition)"
      ]
    },
    {
      "cell_type": "code",
      "execution_count": null,
      "metadata": {
        "id": "Q6ZGPYfkA2OD",
        "colab": {
          "base_uri": "https://localhost:8080/"
        },
        "outputId": "65492cea-30a8-46a0-dd52-334dc6c47d0f"
      },
      "outputs": [
        {
          "output_type": "stream",
          "name": "stdout",
          "text": [
            "[ 0  1  2  3  4  5  6  7  8  9 10 11 12 13 14 15 16 17 18 19]\n",
            "[19]\n"
          ]
        }
      ],
      "source": [
        "array = np.arange(20)\n",
        "print(array)\n",
        "np.random.shuffle(array)\n",
        "n = 1\n",
        "print (array[np.argsort(array)[-n:]])"
      ]
    },
    {
      "cell_type": "markdown",
      "metadata": {
        "id": "X5s4yQz7A2OD"
      },
      "source": [
        "#### 90. Given an arbitrary number of vectors, build the cartesian product (every combinations of every item) (★★★) \n",
        "(**hint**: np.indices)"
      ]
    },
    {
      "cell_type": "code",
      "execution_count": null,
      "metadata": {
        "scrolled": true,
        "id": "fz_udwIAA2OD"
      },
      "outputs": [],
      "source": []
    },
    {
      "cell_type": "markdown",
      "metadata": {
        "id": "LnfdtVWBA2OE"
      },
      "source": [
        "#### 91. How to create a record array from a regular array? (★★★) \n",
        "(**hint**: np.core.records.fromarrays)"
      ]
    },
    {
      "cell_type": "code",
      "execution_count": null,
      "metadata": {
        "id": "-Z8Nu_lwA2OE"
      },
      "outputs": [],
      "source": []
    },
    {
      "cell_type": "markdown",
      "metadata": {
        "id": "eLs_m9yMA2OE"
      },
      "source": [
        "#### 92. Consider a large vector Z, compute Z to the power of 3 using 3 different methods (★★★) \n",
        "(**hint**: np.power, \\*, np.einsum)"
      ]
    },
    {
      "cell_type": "code",
      "execution_count": null,
      "metadata": {
        "id": "SecpNZ3iA2OF"
      },
      "outputs": [],
      "source": []
    },
    {
      "cell_type": "markdown",
      "metadata": {
        "id": "tumlDwQlA2OF"
      },
      "source": [
        "#### 93. Consider two arrays A and B of shape (8,3) and (2,2). How to find rows of A that contain elements of each row of B regardless of the order of the elements in B? (★★★) \n",
        "(**hint**: np.where)"
      ]
    },
    {
      "cell_type": "code",
      "execution_count": null,
      "metadata": {
        "id": "1AI-Qv8nA2OF"
      },
      "outputs": [],
      "source": []
    },
    {
      "cell_type": "markdown",
      "metadata": {
        "id": "PEQ8mDx0A2OF"
      },
      "source": [
        "#### 94. Considering a 10x3 matrix, extract rows with unequal values (e.g. \\[2,2,3\\]) (★★★)"
      ]
    },
    {
      "cell_type": "code",
      "execution_count": null,
      "metadata": {
        "id": "EVNyMnrYA2OG"
      },
      "outputs": [],
      "source": []
    },
    {
      "cell_type": "markdown",
      "metadata": {
        "id": "pGd4uUY3A2OG"
      },
      "source": [
        "#### 95. Convert a vector of ints into a matrix binary representation (★★★) \n",
        "(**hint**: np.unpackbits)"
      ]
    },
    {
      "cell_type": "code",
      "execution_count": null,
      "metadata": {
        "id": "TEMs667kA2OG",
        "colab": {
          "base_uri": "https://localhost:8080/"
        },
        "outputId": "a1039cf5-e2ef-425d-9fce-2d33591f5f63"
      },
      "outputs": [
        {
          "output_type": "stream",
          "name": "stdout",
          "text": [
            "[[0 0 0 0 0 0 0 0]\n",
            " [0 0 0 0 0 0 0 1]\n",
            " [0 0 0 0 0 0 1 0]\n",
            " [0 0 0 0 0 0 1 1]\n",
            " [0 0 0 0 1 1 1 1]\n",
            " [0 0 0 1 0 0 0 0]\n",
            " [0 0 1 0 0 0 0 0]]\n"
          ]
        }
      ],
      "source": [
        "vectors = np.array([0, 1, 2, 3, 15, 16, 32], dtype=np.uint8)\n",
        "print(np.unpackbits(vectors[:, np.newaxis], axis=1))"
      ]
    },
    {
      "cell_type": "markdown",
      "metadata": {
        "id": "CXqFHmpRA2OH"
      },
      "source": [
        "#### 96. Given a two dimensional array, how to extract unique rows? (★★★) \n",
        "(**hint**: np.ascontiguousarray)"
      ]
    },
    {
      "cell_type": "code",
      "execution_count": null,
      "metadata": {
        "id": "R7Uw3VozA2OH"
      },
      "outputs": [],
      "source": []
    },
    {
      "cell_type": "markdown",
      "metadata": {
        "id": "M_0gs7DnA2OH"
      },
      "source": [
        "#### 97. Considering 2 vectors A & B, write the einsum equivalent of inner, outer, sum, and mul function (★★★) \n",
        "(**hint**: np.einsum)"
      ]
    },
    {
      "cell_type": "code",
      "execution_count": null,
      "metadata": {
        "id": "NU4lWOcPA2OH"
      },
      "outputs": [],
      "source": []
    },
    {
      "cell_type": "markdown",
      "metadata": {
        "id": "hHIHVvAFA2OI"
      },
      "source": [
        "#### 98. Considering a path described by two vectors (X,Y), how to sample it using equidistant samples (★★★)? \n",
        "(**hint**: np.cumsum, np.interp)"
      ]
    },
    {
      "cell_type": "code",
      "execution_count": null,
      "metadata": {
        "collapsed": true,
        "id": "xQrHjcK4A2OI"
      },
      "outputs": [],
      "source": []
    },
    {
      "cell_type": "markdown",
      "metadata": {
        "id": "VZ60_908A2OI"
      },
      "source": [
        "#### 99. Given an integer n and a 2D array X, select from X the rows which can be interpreted as draws from a multinomial distribution with n degrees, i.e., the rows which only contain integers and which sum to n. (★★★) \n",
        "(**hint**: np.logical\\_and.reduce, np.mod)"
      ]
    },
    {
      "cell_type": "code",
      "execution_count": null,
      "metadata": {
        "id": "HfGlYlavA2OI"
      },
      "outputs": [],
      "source": []
    },
    {
      "cell_type": "markdown",
      "metadata": {
        "id": "73jrdeYLA2OJ"
      },
      "source": [
        "#### 100. Compute bootstrapped 95% confidence intervals for the mean of a 1D array X (i.e., resample the elements of an array with replacement N times, compute the mean of each sample, and then compute percentiles over the means). (★★★) \n",
        "(**hint**: np.percentile)"
      ]
    },
    {
      "cell_type": "code",
      "execution_count": null,
      "metadata": {
        "id": "AmbVJHqIA2OJ"
      },
      "outputs": [],
      "source": []
    }
  ],
  "metadata": {
    "kernelspec": {
      "display_name": "Python 3",
      "language": "python",
      "name": "python3"
    },
    "language_info": {
      "codemirror_mode": {
        "name": "ipython",
        "version": 3
      },
      "file_extension": ".py",
      "mimetype": "text/x-python",
      "name": "python",
      "nbconvert_exporter": "python",
      "pygments_lexer": "ipython3",
      "version": "3.8.3"
    },
    "colab": {
      "provenance": [],
      "collapsed_sections": [
        "VGuncUAZA2MO"
      ],
      "include_colab_link": true
    }
  },
  "nbformat": 4,
  "nbformat_minor": 0
}